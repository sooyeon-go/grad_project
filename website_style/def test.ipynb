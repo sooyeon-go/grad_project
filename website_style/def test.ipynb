{
 "cells": [
  {
   "cell_type": "code",
   "execution_count": 97,
   "metadata": {},
   "outputs": [],
   "source": [
    "import time\n",
    "from bs4 import BeautifulSoup\n",
    "from selenium import webdriver\n",
    "from selenium.common import exceptions\n",
    "from selenium.webdriver.support.ui import WebDriverWait\n",
    "from selenium.webdriver.support import expected_conditions as EC\n",
    "from selenium.webdriver.common.by import By"
   ]
  },
  {
   "cell_type": "code",
   "execution_count": 98,
   "metadata": {},
   "outputs": [],
   "source": [
    "# 여긴 통째로 다 바꿨어 wd만 언니꺼에 맞춰 쓰면 됨\n",
    "def comment(url):\n",
    "    wd = \"D:\\\\Users\\\\kimdu\\\\Desktop\\\\GRAD\\\\chromedriver.exe\"\n",
    "    driver = webdriver.Chrome(wd)\n",
    "    url_nums = re.findall(\"\\d+\", url)\n",
    "    print(url)\n",
    "    print(url_nums)\n",
    "    addr = 'http://comm.news.nate.com/Comment/ArticleComment/List?artc_sq='+url_nums[0]+'n'+url_nums[1] # 댓글창 주소\n",
    "    driver.get(addr)\n",
    "    pages = 2\n",
    "    try:\n",
    "        for i in range(5):\n",
    "            WebDriverWait(driver, 10).until(EC.element_to_be_clickable((By.CSS_SELECTOR,\"body > div.commentBox.reply_hide > div:nth-child(3) > div.paging_wrap > a:nth-child(\"+str(pages)+\")\"))).click()\n",
    "            time.sleep(2)\n",
    "            print(pages, end=\" \")\n",
    "            pages+=1\n",
    "    except exceptions.ElementNotVisibleException as e: # 페이지 끝\n",
    "        pass\n",
    "    except Exception as e: # 다른 예외 발생시 확인\n",
    "        print(e)\n",
    "    html = driver.page_source\n",
    "    dom = BeautifulSoup(html, \"lxml\")\n",
    "    # 댓글이 들어있는 페이지 전체 크롤링\n",
    "    comments_raw = dom.find_all('dd',{'class':'usertxt'})\n",
    "    # 댓글의 text만 뽑는다.\n",
    "    comments = [comment.text for comment in comments_raw]\n",
    "    return comments"
   ]
  },
  {
   "cell_type": "code",
   "execution_count": 99,
   "metadata": {},
   "outputs": [
    {
     "name": "stdout",
     "output_type": "stream",
     "text": "https://news.nate.com/view/20200225n34937?mid=n1008\n['20200225', '34937', '1008']\n23456"
    },
    {
     "data": {
      "text/plain": "['\\n역시 유재석\\t\\t\\t ',\n '\\n연예인들 기부한거 대체 어디에 쓰이는거야.. 맨날 기부 참 잘들하는데 쓰임처가 티가 안나서 아쉽다\\t\\t\\t ',\n '\\n사랑해요 진짜 ㅠㅠㅠ\\t\\t\\t ',\n '\\n역시  유느님\\t\\t\\t ',\n '\\n김태히랑.레인도 기부해주세요 ㅎ\\t\\t\\t ',\n '\\n좋은데써라  니들술쳐먹는데 쓰지말고\\t\\t\\t ',\n '\\n나갔으면 5옥정도 기부할텐대ㅜ\\t\\t\\t ',\n '\\n그렇게 타국민 이야기하던 정우성은 콧빼기도 안보이남?\\t\\t\\t ',\n '\\n여윽시.....하 아무리 돈이 넘쳐난다해도 어떠케 1억이 쑥 나오냐.....진짜 유느님....😊\\t\\t\\t ',\n '\\n\\t\\t\\t변정수는 이때를 틈타 장사하고, 유재석은 기부하고.\\t\\t\\t ',\n '\\n그는.. 도덕책.. 1억이면 아무리 부자라도 선뜻 기부하기 쉽지않을텐데..\\t\\t\\t ',\n '\\n유느님\\t\\t\\t ',\n '\\n역시 유느\\t\\t\\t ',\n '\\n역시 롱런하는 이유\\t\\t\\t ',\n '\\n연예인분들 기부를 좀 대구시민 마스크등 생필품을 지원했음어떨까합니다~\\n힘을냅시다~~\\t\\t\\t ',\n '\\n문느님도 자꾸 추경추경하지마시고 사비로 성금지원하는건 어떠신지요?^^\\t\\t\\t ',\n '\\n역쉬 유느님은 미담폭격기😀❤ 자기관리도 철저하시고, 인문학 여행(?ㅋ)으로 공부도 많이 하시고, 이렇게 큰 일 있을 때마다 통크게 기부도 하시니ㅠㅠㅋ 정말 선한 영향력을 주시는 멋진 분인 것 같아요^^\\t\\t\\t ',\n '\\n그동안 벌어 먹은게 얼만데 1억?ㅋㅋㅋ 10억은 하고 생색내자\\t\\t\\t ',\n '\\n잘되면 유느님처럼 살아야지ㅜㅜ 멋지다\\t\\t\\t ',\n '\\n멋있다 열심히 일하고 그 댓가를 좋은일에 기부하는 유느님\\n머리에서 발 끝까지 싹다 멋지다멋지다\\t\\t\\t ']"
     },
     "execution_count": 99,
     "metadata": {},
     "output_type": "execute_result"
    }
   ],
   "source": [
    "comments = comment('https://news.nate.com/view/20200225n34937?mid=n1008')   # 이 부분에 네이트 주소 넣어야 돌아가!\n",
    "comments"
   ]
  },
  {
   "cell_type": "code",
   "execution_count": 100,
   "metadata": {},
   "outputs": [],
   "source": [
    "from bs4 import BeautifulSoup\n",
    "import urllib.request\n",
    "import re"
   ]
  },
  {
   "cell_type": "code",
   "execution_count": 101,
   "metadata": {},
   "outputs": [],
   "source": [
    "def get_text(url):\n",
    "    source_code_from_URL = urllib.request.urlopen(url)\n",
    "    soup = BeautifulSoup(source_code_from_URL, 'lxml', from_encoding='utf-8')\n",
    "    text = ''\n",
    "    for item in soup.find_all('div', id='articeBody'):\n",
    "        text = text + str(item.find_all(text=True))\n",
    "    return text"
   ]
  },
  {
   "cell_type": "code",
   "execution_count": 102,
   "metadata": {},
   "outputs": [],
   "source": [
    "txt=get_text('https://entertain.naver.com/read?oid=109&aid=0004166734')"
   ]
  },
  {
   "cell_type": "code",
   "execution_count": 103,
   "metadata": {},
   "outputs": [],
   "source": [
    "def clean_text(text):\n",
    "    cleaned_text = re.sub(r\"[^ㄱ-ㅎㅏ-ㅣ가-힣\\.]+\", \" \", text)\n",
    "    return cleaned_text"
   ]
  },
  {
   "cell_type": "code",
   "execution_count": 104,
   "metadata": {},
   "outputs": [
    {
     "data": {
      "text/plain": "' 놀면 뭐하니 방송화면 캡처 김보라 기자 유재석 지석진 이광수 조세호가 포상 휴가를 즐겼다. 일 오후 방송된 예능프로그램 놀면 뭐하니 는 유재석의 포상 휴가기가 담긴 가운데 지석진 조세호 이광수가 함께 했다. 세 사람은 유재석과 단둘이 대 로 떠나는 여행인 줄 알고 왔는데 알고 보니 인이 떠나는 여행이 됐다. 이유인즉슨 제작진이 시간이 되는 사람을 알아 보기 위해 인에게 동시에 물어봤던 것. 지석진은 이게 이 프로그램의 위엄이다. 시청률이 두 자릿수가 나왔다 며 그래서 나왔다 라고 전해 웃음을 안겼다. 그러면서 지석진은 많이 보던 얼굴이라 캐스팅이 애매하다. 이게 뭐냐 런닝맨 이냐 라고 비하했다. 예능 런닝맨 에 동반 출연하는 이광수가 등장했기 때문. 이에 유재석은 내가 친한 사람들이 엄청나게 많지 않다 며 가수 유희열 이적과 친하다고 털어놨다. 이에 조세호는 우리가 만만한 거다 라고 맞아쳐 웃음을 안겼다. 그러면서 유재석 형은 자기보다 지식이 낮은 사람을 좋아한다 고 디스했다. 놀면 뭐하니 방송화면 캡처 이광수는 이날의 여행을 위해 제가 좋아하는 걸 하고 싶은 걸 솔직하게 적었다. 걷는 걸 좋아한다 며 여행하면서 차 타는 것도 좋지만 걸으며 보는 걸 좋아한다 고 말했다. 이광수의 의견에 따라 유재석은 남산 돈가스 집까지 걸어 가자고 했다. 이들은 아침 시에 연 남산 돈가스 집에서 아침식사를 했다. 이날 지석진이 이태원 가자. 스티커 사진을 찍자 는 등 다양한 의견을 내놓았는데 모두가 무시해 웃음을 유발했다. 식사를 마친 유재석은 쇼핑을 하러 가자 고 제안했고 네 사람은 이태원으로 발걸음을 옮겼다. 유재석이 운전하는 차에 몸을 싣은 지석진 조세호 이광수. 차 안에서도 이들의 수다가 시작됐다. 세 사람은 구경만 해도 재미있다 고 높은 기대감을 드러냈다. 우리 넷이 어디 가는 거 처음이다 라고 기뻐하는 유재석. 그는 가장 먼저 서점으로 세 명을 이끌었다. 일동 숙연해지는 순간. 조세호는 후드티 하나 살까 했는데 깜짝이야 라고 말문을 열었다. 놀면 뭐하니 방송화면 캡처 지석진은 이런 데가 북카페 아니냐. 태어나서 처음 와 봤다 고 털어놨다. 그러면서 휴가인데 라고 아쉬워했다. 조세호와 이광수도 평상시에 오는 건 좋은데 휴가에 여길 오냐 고 했다. 세 사람은 유재석과 취향이 안 맞는다 고 불만을 토로했다. 유재석이 인문학 책을 사와 세 멤버들에게 한 권씩 나눠주며 독서를 시작해보자 고 제안했다. 시작한 지 몇 분이 지나자 지석진은 태어나서 처음으로 서점에서 이렇게 길게 앉아 봤다. 답답하다 고 토로했다. 이어 이광수도 저도 지금 소리지르고 싶다 고 몸을 움직였다. 유재석은 이어 서점에 왔으니 우리가 살짝 토론을 해보는 게 어떠냐. 어느 정도 형식을 갖춰서 얘기를 해보는 거다. 네 명이서 독서 후 토론하는 건 처음이기 때문에 자기소개 먼저 해보자 라고 말문을 열었다. 놀면 뭐하니 방송화면 캡처 지석진은 인생의 목표는 행복이다. 아내와 아이와 행복을 위해 달려나가고 있다 고 했고 이광수는 저는 개그맨은 아니지만 주말 예능을 하고 있다 고 말해 웃음을 안겼다. 조세호도 전문적으로 웃음을 드린다 고 소개했는데 유재석이 전문적인 거 치곤 조금 아쉽다 고 하자 조세호는 근근이 밥 벌어 먹고 산다 고 받아쳤다. 몸이 근질근질했던 네 사람은 독서가 안 맞는지 방 탈출 게임장으로 몸을 옮겼다. 조세호를 제외하고 나머지 멤버들이 방 탈출에 도전하는 것은 이번이 처음이라고 입을 모았다. 철장에 갇혀서 수갑 풀기를 시작한 네 사람. 앞이 보이지 않자 너무 무섭다. 불 좀 켜보라 고 소리쳤다. 자물쇠가 달린 상자를 발견한 이들은 열어 보려고 시도했으나 보이지 않는다며 불만을 토로했다. 시간이 지체됐지만 결국 수갑을 풀어낸 멤버들은 마치 최종 게임이라도 이긴 듯 환호를 질렀다. 그러면서 너무 재미있다고 금세 달라진 모습을 보여줬다. . . 사진 놀면 뭐하니 방송화면 캡처 '"
     },
     "execution_count": 104,
     "metadata": {},
     "output_type": "execute_result"
    }
   ],
   "source": [
    "clean_text(txt)"
   ]
  },
  {
   "cell_type": "code",
   "execution_count": 105,
   "metadata": {},
   "outputs": [
    {
     "data": {
      "text/plain": "\"\\n\\t\\t\\t'놀면 뭐하니' 유재석, 절친♥︎들과 남산→서점→방 탈출..포상휴가 '만끽'[종합]\\n\\t\\t\""
     },
     "execution_count": 105,
     "metadata": {},
     "output_type": "execute_result"
    }
   ],
   "source": [
    "def get_title(url):\n",
    "    source_code_from_URL = urllib.request.urlopen(url)\n",
    "    soup = BeautifulSoup(source_code_from_URL, 'lxml', from_encoding='utf-8')\n",
    "    text = soup.select_one('h2.end_tit')\n",
    "    text_r = text.get_text()\n",
    "    return text_r\n",
    "title = get_title('https://entertain.naver.com/read?oid=109&aid=0004166734')\n",
    "title"
   ]
  },
  {
   "cell_type": "code",
   "execution_count": 106,
   "metadata": {},
   "outputs": [
    {
     "data": {
      "text/plain": "' 놀면 뭐하니 유재석 절친 들과 남산 서점 방 탈출..포상휴가 만끽 종합 '"
     },
     "execution_count": 106,
     "metadata": {},
     "output_type": "execute_result"
    }
   ],
   "source": [
    "clean_text(title)"
   ]
  },
  {
   "cell_type": "code",
   "execution_count": 107,
   "metadata": {},
   "outputs": [],
   "source": [
    "from tensorflow.keras.models import load_model\n",
    "from konlpy.tag import Okt  \n",
    "okt = Okt()"
   ]
  },
  {
   "cell_type": "code",
   "execution_count": 108,
   "metadata": {},
   "outputs": [],
   "source": [
    "from konlpy.tag import Okt\n",
    "from tensorflow.keras.preprocessing.text import Tokenizer\n",
    "import numpy as np\n",
    "from tensorflow.keras.preprocessing.sequence import pad_sequences"
   ]
  },
  {
   "cell_type": "code",
   "execution_count": 109,
   "metadata": {},
   "outputs": [],
   "source": [
    "def model_load(comments):\n",
    "    token_sent=[]\n",
    "    for comment in comments:\n",
    "        temp = okt.morphs(comment, stem=True)\n",
    "        token_sent.append(temp)\n",
    "    max_words = 35000\n",
    "    tokenizer = Tokenizer(num_words = max_words) # 상위 35,000개의 단어만 보존\n",
    "    tokenizer.fit_on_texts(token_sent) \n",
    "    token_sent = tokenizer.texts_to_sequences(token_sent)\n",
    "    word_to_index = tokenizer.word_index\n",
    "    vocab_size = len(word_to_index)+1\n",
    "    max_len = 124\n",
    "    X_data = pad_sequences(token_sent, maxlen=max_len)\n",
    "    model = load_model('model11.h5')\n",
    "    predict = model.predict_classes(X_data)\n",
    "    a = [1 for _ in range(len(X_data))]\n",
    "    for i in range(len(X_data)):\n",
    "        if(predict[i] == 0):\n",
    "            a[i]=0\n",
    "    return a"
   ]
  },
  {
   "cell_type": "code",
   "execution_count": 110,
   "metadata": {},
   "outputs": [
    {
     "ename": "OSError",
     "evalue": "SavedModel file does not exist at: model11.h5/{saved_model.pbtxt|saved_model.pb}",
     "output_type": "error",
     "traceback": [
      "\u001b[1;31m---------------------------------------------------------------------------\u001b[0m",
      "\u001b[1;31mOSError\u001b[0m                                   Traceback (most recent call last)",
      "\u001b[1;32m<ipython-input-110-e1aa2b50f9dd>\u001b[0m in \u001b[0;36m<module>\u001b[1;34m\u001b[0m\n\u001b[1;32m----> 1\u001b[1;33m \u001b[0mresults\u001b[0m \u001b[1;33m=\u001b[0m \u001b[0mmodel_load\u001b[0m\u001b[1;33m(\u001b[0m\u001b[0mcomments\u001b[0m\u001b[1;33m)\u001b[0m\u001b[1;33m\u001b[0m\u001b[1;33m\u001b[0m\u001b[0m\n\u001b[0m\u001b[0;32m      2\u001b[0m \u001b[0mresults\u001b[0m\u001b[1;33m\u001b[0m\u001b[1;33m\u001b[0m\u001b[0m\n",
      "\u001b[1;32m<ipython-input-109-0bf78dd74553>\u001b[0m in \u001b[0;36mmodel_load\u001b[1;34m(comments)\u001b[0m\n\u001b[0;32m     12\u001b[0m     \u001b[0mmax_len\u001b[0m \u001b[1;33m=\u001b[0m \u001b[1;36m124\u001b[0m\u001b[1;33m\u001b[0m\u001b[1;33m\u001b[0m\u001b[0m\n\u001b[0;32m     13\u001b[0m     \u001b[0mX_data\u001b[0m \u001b[1;33m=\u001b[0m \u001b[0mpad_sequences\u001b[0m\u001b[1;33m(\u001b[0m\u001b[0mtoken_sent\u001b[0m\u001b[1;33m,\u001b[0m \u001b[0mmaxlen\u001b[0m\u001b[1;33m=\u001b[0m\u001b[0mmax_len\u001b[0m\u001b[1;33m)\u001b[0m\u001b[1;33m\u001b[0m\u001b[1;33m\u001b[0m\u001b[0m\n\u001b[1;32m---> 14\u001b[1;33m     \u001b[0mmodel\u001b[0m \u001b[1;33m=\u001b[0m \u001b[0mload_model\u001b[0m\u001b[1;33m(\u001b[0m\u001b[1;34m'model11.h5'\u001b[0m\u001b[1;33m)\u001b[0m\u001b[1;33m\u001b[0m\u001b[1;33m\u001b[0m\u001b[0m\n\u001b[0m\u001b[0;32m     15\u001b[0m     \u001b[0mpredict\u001b[0m \u001b[1;33m=\u001b[0m \u001b[0mmodel\u001b[0m\u001b[1;33m.\u001b[0m\u001b[0mpredict_classes\u001b[0m\u001b[1;33m(\u001b[0m\u001b[0mX_data\u001b[0m\u001b[1;33m)\u001b[0m\u001b[1;33m\u001b[0m\u001b[1;33m\u001b[0m\u001b[0m\n\u001b[0;32m     16\u001b[0m     \u001b[0ma\u001b[0m \u001b[1;33m=\u001b[0m \u001b[1;33m[\u001b[0m\u001b[1;36m1\u001b[0m \u001b[1;32mfor\u001b[0m \u001b[0m_\u001b[0m \u001b[1;32min\u001b[0m \u001b[0mrange\u001b[0m\u001b[1;33m(\u001b[0m\u001b[0mlen\u001b[0m\u001b[1;33m(\u001b[0m\u001b[0mX_data\u001b[0m\u001b[1;33m)\u001b[0m\u001b[1;33m)\u001b[0m\u001b[1;33m]\u001b[0m\u001b[1;33m\u001b[0m\u001b[1;33m\u001b[0m\u001b[0m\n",
      "\u001b[1;32m~\\Anaconda3\\lib\\site-packages\\tensorflow_core\\python\\keras\\saving\\save.py\u001b[0m in \u001b[0;36mload_model\u001b[1;34m(filepath, custom_objects, compile)\u001b[0m\n\u001b[0;32m    147\u001b[0m \u001b[1;33m\u001b[0m\u001b[0m\n\u001b[0;32m    148\u001b[0m   \u001b[1;32mif\u001b[0m \u001b[0misinstance\u001b[0m\u001b[1;33m(\u001b[0m\u001b[0mfilepath\u001b[0m\u001b[1;33m,\u001b[0m \u001b[0msix\u001b[0m\u001b[1;33m.\u001b[0m\u001b[0mstring_types\u001b[0m\u001b[1;33m)\u001b[0m\u001b[1;33m:\u001b[0m\u001b[1;33m\u001b[0m\u001b[1;33m\u001b[0m\u001b[0m\n\u001b[1;32m--> 149\u001b[1;33m     \u001b[0mloader_impl\u001b[0m\u001b[1;33m.\u001b[0m\u001b[0mparse_saved_model\u001b[0m\u001b[1;33m(\u001b[0m\u001b[0mfilepath\u001b[0m\u001b[1;33m)\u001b[0m\u001b[1;33m\u001b[0m\u001b[1;33m\u001b[0m\u001b[0m\n\u001b[0m\u001b[0;32m    150\u001b[0m     \u001b[1;32mreturn\u001b[0m \u001b[0msaved_model_load\u001b[0m\u001b[1;33m.\u001b[0m\u001b[0mload\u001b[0m\u001b[1;33m(\u001b[0m\u001b[0mfilepath\u001b[0m\u001b[1;33m,\u001b[0m \u001b[0mcompile\u001b[0m\u001b[1;33m)\u001b[0m\u001b[1;33m\u001b[0m\u001b[1;33m\u001b[0m\u001b[0m\n\u001b[0;32m    151\u001b[0m \u001b[1;33m\u001b[0m\u001b[0m\n",
      "\u001b[1;32m~\\Anaconda3\\lib\\site-packages\\tensorflow_core\\python\\saved_model\\loader_impl.py\u001b[0m in \u001b[0;36mparse_saved_model\u001b[1;34m(export_dir)\u001b[0m\n\u001b[0;32m     81\u001b[0m                   (export_dir,\n\u001b[0;32m     82\u001b[0m                    \u001b[0mconstants\u001b[0m\u001b[1;33m.\u001b[0m\u001b[0mSAVED_MODEL_FILENAME_PBTXT\u001b[0m\u001b[1;33m,\u001b[0m\u001b[1;33m\u001b[0m\u001b[1;33m\u001b[0m\u001b[0m\n\u001b[1;32m---> 83\u001b[1;33m                    constants.SAVED_MODEL_FILENAME_PB))\n\u001b[0m\u001b[0;32m     84\u001b[0m \u001b[1;33m\u001b[0m\u001b[0m\n\u001b[0;32m     85\u001b[0m \u001b[1;33m\u001b[0m\u001b[0m\n",
      "\u001b[1;31mOSError\u001b[0m: SavedModel file does not exist at: model11.h5/{saved_model.pbtxt|saved_model.pb}"
     ]
    }
   ],
   "source": [
    "results = model_load(comments)\n",
    "results"
   ]
  },
  {
   "cell_type": "code",
   "execution_count": null,
   "metadata": {},
   "outputs": [],
   "source": [
    "def neg_pos(results):\n",
    "    pos = 0\n",
    "    neg = 0\n",
    "    for result in results:\n",
    "        if result == 0:\n",
    "            pos += 1\n",
    "        else:\n",
    "            neg += 1\n",
    "    result = pos / (pos + neg) * 100\n",
    "    return result"
   ]
  },
  {
   "cell_type": "code",
   "execution_count": null,
   "metadata": {},
   "outputs": [],
   "source": [
    "result = neg_pos(results)\n",
    "result"
   ]
  },
  {
   "cell_type": "code",
   "execution_count": null,
   "metadata": {},
   "outputs": [],
   "source": []
  }
 ],
 "metadata": {
  "kernelspec": {
   "display_name": "Python 3",
   "language": "python",
   "name": "python3"
  },
  "language_info": {
   "codemirror_mode": {
    "name": "ipython",
    "version": 3
   },
   "file_extension": ".py",
   "mimetype": "text/x-python",
   "name": "python",
   "nbconvert_exporter": "python",
   "pygments_lexer": "ipython3",
   "version": "3.7.4-final"
  }
 },
 "nbformat": 4,
 "nbformat_minor": 2
}