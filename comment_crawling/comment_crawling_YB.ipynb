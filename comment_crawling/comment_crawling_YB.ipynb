{
 "cells": [
  {
   "cell_type": "code",
   "execution_count": 25,
   "metadata": {},
   "outputs": [],
   "source": [
    "import time\n",
    "import re"
   ]
  },
  {
   "cell_type": "code",
   "execution_count": 26,
   "metadata": {},
   "outputs": [],
   "source": [
    "from bs4 import BeautifulSoup\n",
    "from selenium import webdriver\n",
    "from selenium.common import exceptions\n",
    "from selenium.webdriver.support.ui import WebDriverWait\n",
    "from selenium.webdriver.support import expected_conditions as EC\n",
    "from selenium.webdriver.common.by import By"
   ]
  },
  {
   "cell_type": "code",
   "execution_count": 27,
   "metadata": {},
   "outputs": [],
   "source": [
    "wd = \"C:\\\\Users\\\\user\\\\Downloads\\\\chromedriver_win32\\\\chromedriver.exe\"\n",
    "addr = \"https://news.nate.com/view/20200415n09530?mid=n1008\"    # 기사 주소 넣기\n",
    "addr_nums = re.findall(\"\\d+\", addr)\n",
    "addr_comment = 'http://comm.news.nate.com/Comment/ArticleComment/List?artc_sq='+addr_nums[0]+'n'+addr_nums[1] # 댓글창 주소"
   ]
  },
  {
   "cell_type": "code",
   "execution_count": 28,
   "metadata": {},
   "outputs": [],
   "source": [
    "driver = webdriver.Chrome(wd)\n",
    "driver.get(addr_comment)"
   ]
  },
  {
   "cell_type": "code",
   "execution_count": 29,
   "metadata": {},
   "outputs": [],
   "source": [
    "pages = 2"
   ]
  },
  {
   "cell_type": "code",
   "execution_count": 30,
   "metadata": {},
   "outputs": [
    {
     "name": "stdout",
     "output_type": "stream",
     "text": [
      "2 3 4 5 6 "
     ]
    }
   ],
   "source": [
    "try:\n",
    "    for i in range(5):\n",
    "        WebDriverWait(driver, 10).until(EC.element_to_be_clickable((By.CSS_SELECTOR,\"body > div.commentBox.reply_hide > div:nth-child(3) > div.paging_wrap > a:nth-child(\"+str(pages)+\")\"))).click()\n",
    "        time.sleep(1)\n",
    "        print(pages, end=\" \")\n",
    "        pages+=1\n",
    "except exceptions.ElementNotVisibleException as e: # 페이지 끝\n",
    "    pass\n",
    "except Exception as e: # 다른 예외 발생시 확인\n",
    "    print(e)"
   ]
  },
  {
   "cell_type": "code",
   "execution_count": 31,
   "metadata": {},
   "outputs": [],
   "source": [
    "html = driver.page_source\n",
    "dom = BeautifulSoup(html, \"lxml\")"
   ]
  },
  {
   "cell_type": "code",
   "execution_count": 32,
   "metadata": {},
   "outputs": [],
   "source": [
    "# 댓글이 들어있는 페이지 전체 크롤링\n",
    "comments_raw = dom.find_all('dd',{'class':'usertxt'})\n",
    "# 댓글의 text만 뽑는다.\n",
    "comments = [comment.text for comment in comments_raw]"
   ]
  },
  {
   "cell_type": "code",
   "execution_count": 33,
   "metadata": {},
   "outputs": [
    {
     "data": {
      "text/plain": [
       "['\\n완전기대되요 목욜 기다리기가 힘드네요ㅠ\\n임영웅 못하는게 먼가요\\t\\t\\t  ',\n",
       " '\\n넘넘 듣고 싶었던 임영웅 데시파시토!! 모두를 감동시킬거라 확신합니다\\t\\t\\t  ',\n",
       " '\\n임영웅버전의 데스파시토는 어떨지 너무 기대됩니다~\\n무슨노래를 불러도 자기화시키는 신의경지라~\\n원곡 65억만뷰의 데스파시토 라틴계음악으로  또\\n우리를 어떻게 초토화시킬지 본방사수 설레이네요~\\n#임영웅 #사랑의콜센타#응원합니다\\t\\t\\t  ',\n",
       " '\\n임영웅  춤선이 너무이쁜 가수구요 모든 장르 노래 다 진짜 진짜 잘 부르는 가수입니다\\t\\t\\t  ',\n",
       " '\\n엄청 기대 됩니다 ~~임영웅 섹시미 포텐 터지겠죠?  \\n목요일이 빨리 왔으면......\\t\\t\\t  ',\n",
       " '\\n사진만봐도 벌써 심장떨려요  ... 얼마나 멋지게 불러주려나 완전기대합니다  임영웅 화이팅~!!!!\\t\\t\\t  ',\n",
       " '\\n임영웅 도대체 당신의 매력의 끝은 어디인가요~^~\\t\\t\\t  ',\n",
       " '\\n데스파시토 넘넘 기대됩니다 ~  \\n목요일까정 우찌 기다릴꼬...\\t\\t\\t  ',\n",
       " '\\n날마다더!더!빛내주길바란다 임영웅💓\\t\\t\\t  ',\n",
       " '\\n바램듣고 노래에 푹빠져서 유틉검색하다 데시파시토 듣는순간 오마이갓..임영웅한테 다시 푹빠진노래..넘넘기대만땅..낼본방사수ㅡㅡㅡ엉능 목욜아 내게오렴..\\t\\t\\t  ']"
      ]
     },
     "execution_count": 33,
     "metadata": {},
     "output_type": "execute_result"
    }
   ],
   "source": [
    "comments[:10]"
   ]
  },
  {
   "cell_type": "code",
   "execution_count": 34,
   "metadata": {},
   "outputs": [
    {
     "name": "stdout",
     "output_type": "stream",
     "text": [
      "[' 완전기대되요 목욜 기다리기가 힘드네요ㅠ 임영웅 못하는게 먼가요 ', ' 넘넘 듣고 싶었던 임영웅 데시파시토 모두를 감동시킬거라 확신합니다 ', ' 임영웅버전의 데스파시토는 어떨지 너무 기대됩니다 무슨노래를 불러도 자기화시키는 신의경지라 원곡 억만뷰의 데스파시토 라틴계음악으로 또 우리를 어떻게 초토화시킬지 본방사수 설레이네요 임영웅 사랑의콜센타 응원합니다 ', ' 임영웅 춤선이 너무이쁜 가수구요 모든 장르 노래 다 진짜 진짜 잘 부르는 가수입니다 ', ' 엄청 기대 됩니다 임영웅 섹시미 포텐 터지겠죠 목요일이 빨리 왔으면 ']\n"
     ]
    }
   ],
   "source": [
    "normalized_text = []\n",
    "for string in comments:\n",
    "    try:\n",
    "        tokens = re.sub(r\"[^ㄱ-ㅎㅏ-ㅣ가-힣]+\", \" \",string)\n",
    "    except Exception as e:\n",
    "        print(string)\n",
    "        break\n",
    "    normalized_text.append(tokens)\n",
    "print(normalized_text[:5])"
   ]
  },
  {
   "cell_type": "code",
   "execution_count": 35,
   "metadata": {},
   "outputs": [],
   "source": [
    "p_comment_list = []"
   ]
  },
  {
   "cell_type": "code",
   "execution_count": 36,
   "metadata": {},
   "outputs": [],
   "source": [
    "for comment in comments:\n",
    "    p_comment_list.append(normalized_text)"
   ]
  },
  {
   "cell_type": "code",
   "execution_count": 37,
   "metadata": {},
   "outputs": [],
   "source": [
    "file = open('fi_final.txt','w',encoding = 'utf-8')\n",
    "for comment in normalized_text:\n",
    "    file.write(comment + '\\n')\n",
    "file.close()"
   ]
  },
  {
   "cell_type": "code",
   "execution_count": null,
   "metadata": {},
   "outputs": [],
   "source": []
  }
 ],
 "metadata": {
  "kernelspec": {
   "display_name": "Python 3",
   "language": "python",
   "name": "python3"
  },
  "language_info": {
   "codemirror_mode": {
    "name": "ipython",
    "version": 3
   },
   "file_extension": ".py",
   "mimetype": "text/x-python",
   "name": "python",
   "nbconvert_exporter": "python",
   "pygments_lexer": "ipython3",
   "version": "3.7.4"
  }
 },
 "nbformat": 4,
 "nbformat_minor": 2
}
