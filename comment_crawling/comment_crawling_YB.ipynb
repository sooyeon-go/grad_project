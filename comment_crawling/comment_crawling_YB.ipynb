{
 "cells": [
  {
   "cell_type": "code",
<<<<<<< HEAD
   "execution_count": 25,
=======
   "execution_count": 40,
>>>>>>> d19e2673fea0510dc2506c2ddd093e7a7ebb3cf0
   "metadata": {},
   "outputs": [],
   "source": [
    "import time\n",
    "import re"
   ]
  },
  {
   "cell_type": "code",
<<<<<<< HEAD
   "execution_count": 26,
=======
   "execution_count": 41,
>>>>>>> d19e2673fea0510dc2506c2ddd093e7a7ebb3cf0
   "metadata": {},
   "outputs": [],
   "source": [
    "from bs4 import BeautifulSoup\n",
    "from selenium import webdriver\n",
    "from selenium.common import exceptions\n",
    "from selenium.webdriver.support.ui import WebDriverWait\n",
    "from selenium.webdriver.support import expected_conditions as EC\n",
    "from selenium.webdriver.common.by import By"
   ]
  },
  {
   "cell_type": "code",
<<<<<<< HEAD
   "execution_count": 27,
   "metadata": {},
   "outputs": [],
   "source": [
    "wd = \"C:\\\\Users\\\\user\\\\Downloads\\\\chromedriver_win32\\\\chromedriver.exe\"\n",
    "addr = \"https://news.nate.com/view/20200415n09530?mid=n1008\"    # 기사 주소 넣기\n",
=======
   "execution_count": 42,
   "metadata": {},
   "outputs": [],
   "source": [
    "wd = \"D:\\\\Users\\\\kimdu\\\\Desktop\\\\GRAD\\\\chromedriver.exe\"\n",
    "addr = \"https://news.nate.com/view/20200415n16363?mid=n1008\"    # 기사 주소 넣기\n",
>>>>>>> d19e2673fea0510dc2506c2ddd093e7a7ebb3cf0
    "addr_nums = re.findall(\"\\d+\", addr)\n",
    "addr_comment = 'http://comm.news.nate.com/Comment/ArticleComment/List?artc_sq='+addr_nums[0]+'n'+addr_nums[1] # 댓글창 주소"
   ]
  },
  {
   "cell_type": "code",
<<<<<<< HEAD
   "execution_count": 28,
=======
   "execution_count": 43,
>>>>>>> d19e2673fea0510dc2506c2ddd093e7a7ebb3cf0
   "metadata": {},
   "outputs": [],
   "source": [
    "driver = webdriver.Chrome(wd)\n",
    "driver.get(addr_comment)"
   ]
  },
  {
   "cell_type": "code",
<<<<<<< HEAD
   "execution_count": 29,
=======
   "execution_count": 44,
>>>>>>> d19e2673fea0510dc2506c2ddd093e7a7ebb3cf0
   "metadata": {},
   "outputs": [],
   "source": [
    "pages = 2"
   ]
  },
  {
   "cell_type": "code",
<<<<<<< HEAD
   "execution_count": 30,
=======
   "execution_count": 45,
>>>>>>> d19e2673fea0510dc2506c2ddd093e7a7ebb3cf0
   "metadata": {},
   "outputs": [
    {
     "output_type": "stream",
<<<<<<< HEAD
     "text": [
      "2 3 4 5 6 "
     ]
=======
     "name": "stdout",
     "text": "2Message: \n\n"
>>>>>>> d19e2673fea0510dc2506c2ddd093e7a7ebb3cf0
    }
   ],
   "source": [
    "try:\n",
    "    for i in range(5):\n",
    "        WebDriverWait(driver, 10).until(EC.element_to_be_clickable((By.CSS_SELECTOR,\"body > div.commentBox.reply_hide > div:nth-child(3) > div.paging_wrap > a:nth-child(\"+str(pages)+\")\"))).click()\n",
<<<<<<< HEAD
    "        time.sleep(1)\n",
=======
    "        time.sleep(2)\n",
>>>>>>> d19e2673fea0510dc2506c2ddd093e7a7ebb3cf0
    "        print(pages, end=\" \")\n",
    "        pages+=1\n",
    "except exceptions.ElementNotVisibleException as e: # 페이지 끝\n",
    "    pass\n",
    "except Exception as e: # 다른 예외 발생시 확인\n",
    "    print(e)"
   ]
  },
  {
   "cell_type": "code",
<<<<<<< HEAD
   "execution_count": 31,
=======
   "execution_count": 46,
>>>>>>> d19e2673fea0510dc2506c2ddd093e7a7ebb3cf0
   "metadata": {},
   "outputs": [],
   "source": [
    "html = driver.page_source\n",
    "dom = BeautifulSoup(html, \"lxml\")"
   ]
  },
  {
   "cell_type": "code",
<<<<<<< HEAD
   "execution_count": 32,
=======
   "execution_count": 47,
>>>>>>> d19e2673fea0510dc2506c2ddd093e7a7ebb3cf0
   "metadata": {},
   "outputs": [],
   "source": [
    "# 댓글이 들어있는 페이지 전체 크롤링\n",
    "comments_raw = dom.find_all('dd',{'class':'usertxt'})\n",
    "# 댓글의 text만 뽑는다.\n",
    "comments = [comment.text for comment in comments_raw]"
   ]
  },
  {
   "cell_type": "code",
<<<<<<< HEAD
   "execution_count": 33,
=======
   "execution_count": 48,
>>>>>>> d19e2673fea0510dc2506c2ddd093e7a7ebb3cf0
   "metadata": {},
   "outputs": [
    {
     "output_type": "execute_result",
     "data": {
<<<<<<< HEAD
      "text/plain": [
       "['\\n완전기대되요 목욜 기다리기가 힘드네요ㅠ\\n임영웅 못하는게 먼가요\\t\\t\\t  ',\n",
       " '\\n넘넘 듣고 싶었던 임영웅 데시파시토!! 모두를 감동시킬거라 확신합니다\\t\\t\\t  ',\n",
       " '\\n임영웅버전의 데스파시토는 어떨지 너무 기대됩니다~\\n무슨노래를 불러도 자기화시키는 신의경지라~\\n원곡 65억만뷰의 데스파시토 라틴계음악으로  또\\n우리를 어떻게 초토화시킬지 본방사수 설레이네요~\\n#임영웅 #사랑의콜센타#응원합니다\\t\\t\\t  ',\n",
       " '\\n임영웅  춤선이 너무이쁜 가수구요 모든 장르 노래 다 진짜 진짜 잘 부르는 가수입니다\\t\\t\\t  ',\n",
       " '\\n엄청 기대 됩니다 ~~임영웅 섹시미 포텐 터지겠죠?  \\n목요일이 빨리 왔으면......\\t\\t\\t  ',\n",
       " '\\n사진만봐도 벌써 심장떨려요  ... 얼마나 멋지게 불러주려나 완전기대합니다  임영웅 화이팅~!!!!\\t\\t\\t  ',\n",
       " '\\n임영웅 도대체 당신의 매력의 끝은 어디인가요~^~\\t\\t\\t  ',\n",
       " '\\n데스파시토 넘넘 기대됩니다 ~  \\n목요일까정 우찌 기다릴꼬...\\t\\t\\t  ',\n",
       " '\\n날마다더!더!빛내주길바란다 임영웅💓\\t\\t\\t  ',\n",
       " '\\n바램듣고 노래에 푹빠져서 유틉검색하다 데시파시토 듣는순간 오마이갓..임영웅한테 다시 푹빠진노래..넘넘기대만땅..낼본방사수ㅡㅡㅡ엉능 목욜아 내게오렴..\\t\\t\\t  ']"
      ]
     },
     "execution_count": 33,
     "metadata": {},
     "output_type": "execute_result"
=======
      "text/plain": "['\\nizi가 밴드였다니  너무머시써!!!!!!!!\\t\\t\\t  ',\n '\\n김준한만의 그 대사를 약간 끊어치는매력? 그런게있는데 좋음 ㅋㅋ 목소리도좋고\\t\\t\\t  ',\n '\\n김준한 배우 이분 연기 자연스럽게 완전 잘하심. 마스크도 괜찮고  넘 좋아요 ㅋㅋㅋ 봄밤 한지민 남친으로 나왔을 때도 생활연기 대박이었음\\t\\t\\t  ',\n '\\n송이한테의 고백이 너무 담백하고 좋더라...\\n맘에없다가도 맘이생길듯한 고백이었어 ㅠㅠ\\n으헉 내가 다 설레네\\t\\t\\t  ',\n '\\n진짜? 와~~  몰랐네 ㅎㅎㅎㅎ\\t\\t\\t  ',\n '\\n가수 izi\\n드러머 출신\\n김준한\\n배우 전향\\n성공입니다\\n축하합니다\\t\\t\\t  ',\n '\\n밴드 출신인데도 연기 자연스럽게 잘해서 베테랑연기자 같아 진짜 놀랐음 김준환씨 앞으로 더 흥하세요~\\t\\t\\t  ',\n '\\n슬빵에서 해롱이 남친 너무 이쁘게 웃음\\t\\t\\t  ',\n '\\n와..\\n김준한\\n드러머 출신이였네\\n대박이네요\\n응원합니다\\n파이팅\\t\\t\\t  ',\n '\\n와...이건 몰랐네...대박\\t\\t\\t  ']"
     },
     "metadata": {},
     "execution_count": 48
>>>>>>> d19e2673fea0510dc2506c2ddd093e7a7ebb3cf0
    }
   ],
   "source": [
    "comments[:10]"
   ]
  },
  {
   "cell_type": "code",
<<<<<<< HEAD
   "execution_count": 34,
=======
   "execution_count": 49,
>>>>>>> d19e2673fea0510dc2506c2ddd093e7a7ebb3cf0
   "metadata": {},
   "outputs": [
    {
     "name": "stdout",
<<<<<<< HEAD
     "output_type": "stream",
     "text": [
      "[' 완전기대되요 목욜 기다리기가 힘드네요ㅠ 임영웅 못하는게 먼가요 ', ' 넘넘 듣고 싶었던 임영웅 데시파시토 모두를 감동시킬거라 확신합니다 ', ' 임영웅버전의 데스파시토는 어떨지 너무 기대됩니다 무슨노래를 불러도 자기화시키는 신의경지라 원곡 억만뷰의 데스파시토 라틴계음악으로 또 우리를 어떻게 초토화시킬지 본방사수 설레이네요 임영웅 사랑의콜센타 응원합니다 ', ' 임영웅 춤선이 너무이쁜 가수구요 모든 장르 노래 다 진짜 진짜 잘 부르는 가수입니다 ', ' 엄청 기대 됩니다 임영웅 섹시미 포텐 터지겠죠 목요일이 빨리 왔으면 ']\n"
     ]
=======
     "text": "[' 가 밴드였다니 너무머시써 ', ' 김준한만의 그 대사를 약간 끊어치는매력 그런게있는데 좋음 ㅋㅋ 목소리도좋고 ', ' 김준한 배우 이분 연기 자연스럽게 완전 잘하심 마스크도 괜찮고 넘 좋아요 ㅋㅋㅋ 봄밤 한지민 남친으로 나왔을 때도 생활연기 대박이었음 ', ' 송이한테의 고백이 너무 담백하고 좋더라 맘에없다가도 맘이생길듯한 고백이었어 ㅠㅠ 으헉 내가 다 설레네 ', ' 진짜 와 몰랐네 ㅎㅎㅎㅎ ']\n"
>>>>>>> d19e2673fea0510dc2506c2ddd093e7a7ebb3cf0
    }
   ],
   "source": [
    "normalized_text = []\n",
    "for string in comments:\n",
    "    try:\n",
    "        tokens = re.sub(r\"[^ㄱ-ㅎㅏ-ㅣ가-힣]+\", \" \",string)\n",
    "    except Exception as e:\n",
    "        print(string)\n",
    "        break\n",
    "    normalized_text.append(tokens)\n",
    "print(normalized_text[:5])"
   ]
  },
  {
   "cell_type": "code",
<<<<<<< HEAD
   "execution_count": 35,
=======
   "execution_count": 50,
>>>>>>> d19e2673fea0510dc2506c2ddd093e7a7ebb3cf0
   "metadata": {},
   "outputs": [],
   "source": [
    "p_comment_list = []"
   ]
  },
  {
   "cell_type": "code",
<<<<<<< HEAD
   "execution_count": 36,
=======
   "execution_count": 51,
>>>>>>> d19e2673fea0510dc2506c2ddd093e7a7ebb3cf0
   "metadata": {},
   "outputs": [],
   "source": [
    "for comment in comments:\n",
    "    p_comment_list.append(normalized_text)"
   ]
  },
  {
   "cell_type": "code",
<<<<<<< HEAD
   "execution_count": 37,
   "metadata": {},
   "outputs": [],
   "source": [
    "file = open('fi_final.txt','w',encoding = 'utf-8')\n",
=======
   "execution_count": 52,
   "metadata": {},
   "outputs": [],
   "source": [
    "file = open('new11.txt','w',encoding = 'utf-8')\n",
>>>>>>> d19e2673fea0510dc2506c2ddd093e7a7ebb3cf0
    "for comment in normalized_text:\n",
    "    file.write(comment + '\\n')\n",
    "file.close()"
   ]
  },
  {
   "cell_type": "code",
   "execution_count": null,
   "metadata": {},
   "outputs": [],
   "source": []
  }
 ],
 "metadata": {
  "kernelspec": {
   "display_name": "Python 3",
   "language": "python",
   "name": "python3"
  },
  "language_info": {
   "codemirror_mode": {
    "name": "ipython",
    "version": 3
   },
   "file_extension": ".py",
   "mimetype": "text/x-python",
   "name": "python",
   "nbconvert_exporter": "python",
   "pygments_lexer": "ipython3",
   "version": "3.7.4"
  }
 },
 "nbformat": 4,
 "nbformat_minor": 2
}
