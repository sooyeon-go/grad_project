{
 "cells": [
  {
   "cell_type": "code",
   "execution_count": 85,
   "metadata": {},
   "outputs": [],
   "source": [
    "import time\n",
    "import re"
   ]
  },
  {
   "cell_type": "code",
   "execution_count": 86,
   "metadata": {},
   "outputs": [],
   "source": [
    "from bs4 import BeautifulSoup\n",
    "from selenium import webdriver\n",
    "from selenium.common import exceptions\n",
    "from selenium.webdriver.support.ui import WebDriverWait\n",
    "from selenium.webdriver.support import expected_conditions as EC\n",
    "from selenium.webdriver.common.by import By"
   ]
  },
  {
   "cell_type": "code",
   "execution_count": 87,
   "metadata": {},
   "outputs": [],
   "source": [
    "wd = \"D:\\\\Users\\\\kimdu\\\\Desktop\\\\GRAD\\\\chromedriver.exe\"\n",
    "addr = \"https://news.nate.com/view/20200413n14803?mid=n1008\"    # 기사 주소 넣기\n",
    "addr_nums = re.findall(\"\\d+\", addr)\n",
    "addr_comment = 'http://comm.news.nate.com/Comment/ArticleComment/List?artc_sq='+addr_nums[0]+'n'+addr_nums[1] # 댓글창 주소"
   ]
  },
  {
   "cell_type": "code",
   "execution_count": 88,
   "metadata": {},
   "outputs": [],
   "source": [
    "driver = webdriver.Chrome(wd)\n",
    "driver.get(addr_comment)"
   ]
  },
  {
   "cell_type": "code",
   "execution_count": 89,
   "metadata": {},
   "outputs": [],
   "source": [
    "pages = 2"
   ]
  },
  {
   "cell_type": "code",
   "execution_count": 90,
   "metadata": {},
   "outputs": [
    {
     "output_type": "stream",
     "name": "stdout",
     "text": "23456"
    }
   ],
   "source": [
    "try:\n",
    "    for i in range(5):\n",
    "        WebDriverWait(driver, 10).until(EC.element_to_be_clickable((By.CSS_SELECTOR,\"body > div.commentBox.reply_hide > div:nth-child(3) > div.paging_wrap > a:nth-child(\"+str(pages)+\")\"))).click()\n",
    "        time.sleep(2)\n",
    "        print(pages, end=\" \")\n",
    "        pages+=1\n",
    "except exceptions.ElementNotVisibleException as e: # 페이지 끝\n",
    "    pass\n",
    "except Exception as e: # 다른 예외 발생시 확인\n",
    "    print(e)"
   ]
  },
  {
   "cell_type": "code",
   "execution_count": 91,
   "metadata": {},
   "outputs": [],
   "source": [
    "html = driver.page_source\n",
    "dom = BeautifulSoup(html, \"lxml\")"
   ]
  },
  {
   "cell_type": "code",
   "execution_count": 92,
   "metadata": {},
   "outputs": [],
   "source": [
    "# 댓글이 들어있는 페이지 전체 크롤링\n",
    "comments_raw = dom.find_all('dd',{'class':'usertxt'})\n",
    "# 댓글의 text만 뽑는다.\n",
    "comments = [comment.text for comment in comments_raw]\n",
    "comments = [re.sub(\"\\s*\",\"\",comment) for comment in comments]\n"
   ]
  },
  {
   "cell_type": "code",
   "execution_count": 93,
   "metadata": {},
   "outputs": [
    {
     "output_type": "execute_result",
     "data": {
      "text/plain": "['재밌네ㅎㅎ',\n '무슨교통사고나듯이내팽개쳐지긴햇지..보다가너무쎄게던져서놀랫는데ㅠ',\n '김희애가굴쌍한건지?남편이불쌍한건지?남편이하면불륜.내가하면복수를위한섹스.']"
     },
     "metadata": {},
     "execution_count": 93
    }
   ],
   "source": [
    "comments[:3]"
   ]
  },
  {
   "cell_type": "code",
   "execution_count": 94,
   "metadata": {},
   "outputs": [],
   "source": [
    "p_comment_list = []"
   ]
  },
  {
   "cell_type": "code",
   "execution_count": 95,
   "metadata": {},
   "outputs": [],
   "source": [
    "for comment in comments:\n",
    "    p_comment_list.append(comment)"
   ]
  },
  {
   "cell_type": "code",
   "execution_count": 96,
   "metadata": {},
   "outputs": [],
   "source": [
    "file = open('p_comment45.txt','w',encoding = 'utf-8')\n",
    "for comment in p_comment_list:\n",
    "    file.write(comment + '\\n')\n",
    "file.close()"
   ]
  },
  {
   "cell_type": "code",
   "execution_count": null,
   "metadata": {},
   "outputs": [],
   "source": []
  }
 ],
 "metadata": {
  "kernelspec": {
   "display_name": "Python 3",
   "language": "python",
   "name": "python3"
  },
  "language_info": {
   "codemirror_mode": {
    "name": "ipython",
    "version": 3
   },
   "file_extension": ".py",
   "mimetype": "text/x-python",
   "name": "python",
   "nbconvert_exporter": "python",
   "pygments_lexer": "ipython3",
   "version": "3.7.4-final"
  }
 },
 "nbformat": 4,
 "nbformat_minor": 2
}