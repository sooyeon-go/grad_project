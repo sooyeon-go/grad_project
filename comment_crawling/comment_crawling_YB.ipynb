{
 "cells": [
  {
   "cell_type": "code",
<<<<<<< HEAD
   "execution_count": 18,
=======
   "execution_count": 1,
>>>>>>> 6db566c92622c6df729de2d4cf682b83167a71e9
   "metadata": {},
   "outputs": [],
   "source": [
    "import time"
   ]
  },
  {
   "cell_type": "code",
<<<<<<< HEAD
   "execution_count": 19,
=======
   "execution_count": 2,
>>>>>>> 6db566c92622c6df729de2d4cf682b83167a71e9
   "metadata": {},
   "outputs": [],
   "source": [
    "from bs4 import BeautifulSoup\n",
    "from selenium import webdriver\n",
    "from selenium.common import exceptions\n",
    "from selenium.webdriver.support.ui import WebDriverWait\n",
    "from selenium.webdriver.support import expected_conditions as EC\n",
    "from selenium.webdriver.common.by import By"
   ]
  },
  {
   "cell_type": "code",
<<<<<<< HEAD
   "execution_count": 20,
   "metadata": {},
   "outputs": [],
   "source": [
    "wd = \"C:\\\\Users\\\\user\\\\Downloads\\\\chromedriver_win32\\\\chromedriver\"\n",
    "addr = \"https://entertain.naver.com/read?oid=109&aid=0004166734\""
=======
   "execution_count": 3,
   "metadata": {},
   "outputs": [],
   "source": [
    "wd = \"D:\\\\Users\\\\kimdu\\\\Desktop\\\\GRAD\\\\chromedriver.exe\"\n",
    "addr = \"https://news.nate.com/view/20200415n04119?mid=n1008\"    # 기사 주소 넣기\n",
    "addr_nums = re.findall(\"\\d+\", addr)\n",
    "addr_comment = 'http://comm.news.nate.com/Comment/ArticleComment/List?artc_sq='+addr_nums[0]+'n'+addr_nums[1] # 댓글창 주소"
>>>>>>> 6db566c92622c6df729de2d4cf682b83167a71e9
   ]
  },
  {
   "cell_type": "code",
<<<<<<< HEAD
   "execution_count": 21,
=======
   "execution_count": 4,
>>>>>>> 6db566c92622c6df729de2d4cf682b83167a71e9
   "metadata": {},
   "outputs": [],
   "source": [
    "driver = webdriver.Chrome(wd)\n",
    "driver.get(addr)"
   ]
  },
  {
   "cell_type": "code",
<<<<<<< HEAD
   "execution_count": 22,
=======
   "execution_count": 5,
>>>>>>> 6db566c92622c6df729de2d4cf682b83167a71e9
   "metadata": {},
   "outputs": [],
   "source": [
    "pages = 0"
   ]
  },
  {
   "cell_type": "code",
   "execution_count": 6,
   "metadata": {},
   "outputs": [
    {
     "name": "stdout",
     "output_type": "stream",
<<<<<<< HEAD
     "text": [
      "0 1 2 3 4 5 6 7 8 9 10 11 12 13 14 15 16 Message: element click intercepted: Element <a href=\"#\" class=\"u_cbox_btn_more\" data-action=\"page#more\" data-log=\"RPC.more\">...</a> is not clickable at point (380, 363). Other element would receive the click: <div id=\"footer\">...</div>\n",
      "  (Session info: chrome=80.0.3987.106)\n",
      "\n"
     ]
=======
     "name": "stdout",
     "text": "23456"
>>>>>>> 6db566c92622c6df729de2d4cf682b83167a71e9
    }
   ],
   "source": [
    "try:\n",
<<<<<<< HEAD
    "    while True:\n",
    "        WebDriverWait(driver, 10).until(EC.element_to_be_clickable((By.CSS_SELECTOR,\"#cbox_module > div > div.u_cbox_paginate > a\"))).click()\n",
    "        time.sleep(1.5)\n",
=======
    "    for i in range(5):\n",
    "        WebDriverWait(driver, 10).until(EC.element_to_be_clickable((By.CSS_SELECTOR,\"body > div.commentBox.reply_hide > div:nth-child(3) > div.paging_wrap > a:nth-child(\"+str(pages)+\")\"))).click()\n",
    "        time.sleep(2)\n",
>>>>>>> 6db566c92622c6df729de2d4cf682b83167a71e9
    "        print(pages, end=\" \")\n",
    "        pages+=1\n",
    "except exceptions.ElementNotVisibleException as e: # 페이지 끝\n",
    "    pass\n",
    "    \n",
    "except Exception as e: # 다른 예외 발생시 확인\n",
    "    print(e)"
   ]
  },
  {
   "cell_type": "code",
<<<<<<< HEAD
   "execution_count": 23,
=======
   "execution_count": 7,
>>>>>>> 6db566c92622c6df729de2d4cf682b83167a71e9
   "metadata": {},
   "outputs": [],
   "source": [
    "html = driver.page_source\n",
    "dom = BeautifulSoup(html, \"lxml\")"
   ]
  },
  {
   "cell_type": "code",
<<<<<<< HEAD
   "execution_count": 24,
=======
   "execution_count": 8,
>>>>>>> 6db566c92622c6df729de2d4cf682b83167a71e9
   "metadata": {},
   "outputs": [],
   "source": [
    "# 댓글이 들어있는 페이지 전체 크롤링\n",
    "comments_raw = dom.find_all(\"span\", {\"class\" : \"u_cbox_contents\"})\n",
    "# 댓글의 text만 뽑는다.\n",
    "comments = [comment.text for comment in comments_raw]"
   ]
  },
  {
   "cell_type": "code",
<<<<<<< HEAD
   "execution_count": 25,
=======
   "execution_count": 9,
>>>>>>> 6db566c92622c6df729de2d4cf682b83167a71e9
   "metadata": {},
   "outputs": [
    {
     "data": {
<<<<<<< HEAD
      "text/plain": [
       "['ㅋㅋㅋㅋㅋ이 4명 케미 왜이리 웃김 ㅋㅋㅋㅋ 수다만 떨었는데도 빵빵터짐 ㅋㅋㅋㅋㅋㅋㅋㅋㅋㅋ',\n",
       " '의미부여없이 웃기기로는 놀면뭐하니에서 오늘이 젤웃겼음ㅋㅋ지석진 조세호냅두고선 문닫고도망치는거 최고의 킬링포인트ㅋㅋㅋㅋ',\n",
       " '유느 행복해하는거 넘 보기좋네요ㅎㅎㅎ']"
      ]
     },
     "execution_count": 25,
     "metadata": {},
     "output_type": "execute_result"
=======
      "text/plain": "['\\n애구레도  부모님이  운영하시는  식당에  손님들이  많다네요\\n좋은  일이죠\\t\\t\\t  ',\n '\\n\\t\\t\\t첫 광고 축하축하 이찬원 꽃길만 걷길!!!!\\t\\t\\t  ',\n '\\n탑스타만 찍는다는 정관장 우와ㅜㅜ 우리 찬원이 역시 진정한 국민 픽이구나. 평범한 대학생 신분으로 현역가수들이랑 대결하느라 수고했으니 이제 빛날일만 남았네 우리찬또♡\\t\\t\\t  ',\n '\\n찬원님 최고!!❤❤❤❤\\t\\t\\t  ',\n '\\n꺼져ㅡㅡ\\t\\t\\t  ',\n '\\n찬원님 광고촬영 너무너무 축하해요💛💙💛💙 항상 응원합니다 꽃길만 걸어요💙💛💙💛\\t\\t\\t  ',\n '\\n넘넘 축하해요♡\\t\\t\\t  ',\n '\\n축하 축하 광고하면 바로 삽니다❤❤\\t\\t\\t  ',\n '\\n\\t\\t\\t흥해라,,이찬원,,,,,,,,으다다다다~!!ㅎㅎ\\t\\t\\t  ',\n '\\n일베 이용자가 가장 많은 대구, 신천지 회원이 가장 많은 대구, 고담시라는 별명을 가진 대구, 인건비 가장 싼 대구, 여름에 가장 더운 대구 그밖에도 안좋은게 참 많은곳잇데 변할생각없는대구, 대구는 자신들이 그렇게 만들고 있어요... 전 그래서 대구사람들이 싫어요. 찬또배기도 싫어....\\t\\t\\t  ']"
     },
     "metadata": {},
     "execution_count": 9
    }
   ],
   "source": [
    "comments[:10]"
   ]
  },
  {
   "cell_type": "code",
   "execution_count": 10,
   "metadata": {},
   "outputs": [
    {
     "output_type": "stream",
     "name": "stdout",
     "text": "[' 애구레도 부모님이 운영하시는 식당에 손님들이 많다네요 좋은 일이죠 ', ' 첫 광고 축하축하 이찬원 꽃길만 걷길 ', ' 탑스타만 찍는다는 정관장 우와ㅜㅜ 우리 찬원이 역시 진정한 국민 픽이구나 평범한 대학생 신분으로 현역가수들이랑 대결하느라 수고했으니 이제 빛날일만 남았네 우리찬또 ', ' 찬원님 최고 ', ' 꺼져ㅡㅡ ']\n"
>>>>>>> 6db566c92622c6df729de2d4cf682b83167a71e9
    }
   ],
   "source": [
    "comments[:3]"
   ]
  },
  {
   "cell_type": "code",
<<<<<<< HEAD
   "execution_count": 10,
=======
   "execution_count": 11,
>>>>>>> 6db566c92622c6df729de2d4cf682b83167a71e9
   "metadata": {},
   "outputs": [],
   "source": [
    "p_comment_list = []"
   ]
  },
  {
   "cell_type": "code",
<<<<<<< HEAD
   "execution_count": 11,
=======
   "execution_count": 12,
>>>>>>> 6db566c92622c6df729de2d4cf682b83167a71e9
   "metadata": {},
   "outputs": [],
   "source": [
    "for comment in comments:\n",
    "    p_comment_list.append(comment)"
   ]
  },
  {
   "cell_type": "code",
<<<<<<< HEAD
   "execution_count": 264,
   "metadata": {},
   "outputs": [],
   "source": [
    "file = open('p_comment36.txt','w',encoding = 'utf-8')\n",
    "for comment in p_comment_list:\n",
=======
   "execution_count": 13,
   "metadata": {},
   "outputs": [],
   "source": [
    "file = open('new8.txt','w',encoding = 'utf-8')\n",
    "for comment in normalized_text:\n",
>>>>>>> 6db566c92622c6df729de2d4cf682b83167a71e9
    "    file.write(comment + '\\n')\n",
    "file.close()"
   ]
  },
  {
   "cell_type": "code",
   "execution_count": null,
   "metadata": {},
   "outputs": [],
   "source": []
  }
 ],
 "metadata": {
  "kernelspec": {
   "display_name": "Python 3",
   "language": "python",
   "name": "python3"
  },
  "language_info": {
   "codemirror_mode": {
    "name": "ipython",
    "version": 3
   },
   "file_extension": ".py",
   "mimetype": "text/x-python",
   "name": "python",
   "nbconvert_exporter": "python",
   "pygments_lexer": "ipython3",
   "version": "3.7.4-final"
  }
 },
 "nbformat": 4,
 "nbformat_minor": 2
}