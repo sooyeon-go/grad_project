{
 "cells": [
  {
   "cell_type": "code",
   "execution_count": 79,
   "metadata": {},
   "outputs": [],
   "source": [
    "import time\n",
    "import re"
   ]
  },
  {
   "cell_type": "code",
   "execution_count": 80,
   "metadata": {},
   "outputs": [],
   "source": [
    "from bs4 import BeautifulSoup\n",
    "from selenium import webdriver\n",
    "from selenium.common import exceptions\n",
    "from selenium.webdriver.support.ui import WebDriverWait\n",
    "from selenium.webdriver.support import expected_conditions as EC\n",
    "from selenium.webdriver.common.by import By"
   ]
  },
  {
   "cell_type": "code",
   "execution_count": 81,
   "metadata": {},
   "outputs": [],
   "source": [
    "wd = \"C:\\\\Users\\\\user\\\\Downloads\\\\chromedriver_win32\\\\chromedriver.exe\"\n",
    "addr = \"https://news.nate.com/view/20200413n16162?mid=n1008\"    # 기사 주소 넣기\n",
    "addr_nums = re.findall(\"\\d+\", addr)\n",
    "addr_comment = 'http://comm.news.nate.com/Comment/ArticleComment/List?artc_sq='+addr_nums[0]+'n'+addr_nums[1] # 댓글창 주소"
   ]
  },
  {
   "cell_type": "code",
   "execution_count": 82,
   "metadata": {},
   "outputs": [],
   "source": [
    "driver = webdriver.Chrome(wd)\n",
    "driver.get(addr_comment)"
   ]
  },
  {
   "cell_type": "code",
   "execution_count": 83,
   "metadata": {},
   "outputs": [],
   "source": [
    "pages = 2"
   ]
  },
  {
   "cell_type": "code",
   "execution_count": 84,
   "metadata": {},
   "outputs": [
    {
     "name": "stdout",
     "output_type": "stream",
     "text": [
      "2 3 4 5 6 "
     ]
    }
   ],
   "source": [
    "try:\n",
    "    for i in range(5):\n",
    "        WebDriverWait(driver, 10).until(EC.element_to_be_clickable((By.CSS_SELECTOR,\"body > div.commentBox.reply_hide > div:nth-child(3) > div.paging_wrap > a:nth-child(\"+str(pages)+\")\"))).click()\n",
    "        time.sleep(1)\n",
    "        print(pages, end=\" \")\n",
    "        pages+=1\n",
    "except exceptions.ElementNotVisibleException as e: # 페이지 끝\n",
    "    pass\n",
    "except Exception as e: # 다른 예외 발생시 확인\n",
    "    print(e)"
   ]
  },
  {
   "cell_type": "code",
   "execution_count": 85,
   "metadata": {},
   "outputs": [],
   "source": [
    "html = driver.page_source\n",
    "dom = BeautifulSoup(html, \"lxml\")"
   ]
  },
  {
   "cell_type": "code",
   "execution_count": 86,
   "metadata": {},
   "outputs": [],
   "source": [
    "# 댓글이 들어있는 페이지 전체 크롤링\n",
    "comments_raw = dom.find_all('dd',{'class':'usertxt'})\n",
    "# 댓글의 text만 뽑는다.\n",
    "comments = [comment.text for comment in comments_raw]"
   ]
  },
  {
   "cell_type": "code",
   "execution_count": 87,
   "metadata": {},
   "outputs": [
    {
     "data": {
      "text/plain": [
       "['\\n하정우 배우로선 명품배우고.\\n걷기 같은걸로 스트레스도 건강하게 풀고\\n그런다고 생각했었는데.\\n다들 힘든것 같다.\\n없는 사람도.많이 가진 사람도...\\n무엇도 강요될순 없겠지만.\\n똑같이 힘들어도 재능과 큰 부가 있다는건\\n진짜 신의 엄청난 축복인걸 알고.\\n스스로를 바닥까지 끌어 내리시진 말길.\\t\\t\\t ',\n",
       " '\\n저희도 장난인 줄 알았어요 프로포폴\\t\\t\\t ',\n",
       " '\\n광고볼때마다 그생각나.포포리\\t\\t\\t ',\n",
       " '\\n억울해도 개돼지들한테 걸렸으니 앞으로 프로포폴 이미지 계속 가겠네. \\n기사 안 읽고 쓴거 같은 댓글들이 배댓 점령한거 보면.. 쟤들은 검찰 경찰에서 아니라고 해도 끝까지 유죄추정을 넘어 유죄판결한다. ㅋㅋㅋ\\t\\t\\t ',\n",
       " '\\n푹쉬셔~\\t\\t\\t ',\n",
       " '\\n약중독이 심각한 문젠데\\t\\t\\t ',\n",
       " '\\n\\t\\t\\t하정우 노무현\\t\\t\\t ',\n",
       " '\\n\\t\\t\\t프로포폴 처벌 받아야하는거는 맞지만 \\n같은 마약사범인 주지훈은 쥰나 빨아제끼면서 하정우는 또 쥰나 까는게 아이러니...\\t\\t\\t ',\n",
       " '\\n그럴듯하게 컨셉 잘잡고 국민이미지로왓엇는데 \\n알맹이까보니 영 아닌거같네\\t\\t\\t ',\n",
       " '\\nn번방 연예인은 누구게~~???\\t\\t\\t ']"
      ]
     },
     "execution_count": 87,
     "metadata": {},
     "output_type": "execute_result"
    }
   ],
   "source": [
    "comments[:10]"
   ]
  },
  {
   "cell_type": "code",
   "execution_count": 88,
   "metadata": {},
   "outputs": [
    {
     "name": "stdout",
     "output_type": "stream",
     "text": [
      "[' 하정우 배우로선 명품배우고 걷기 같은걸로 스트레스도 건강하게 풀고 그런다고 생각했었는데 다들 힘든것 같다 없는 사람도 많이 가진 사람도 무엇도 강요될순 없겠지만 똑같이 힘들어도 재능과 큰 부가 있다는건 진짜 신의 엄청난 축복인걸 알고 스스로를 바닥까지 끌어 내리시진 말길 ', ' 저희도 장난인 줄 알았어요 프로포폴 ', ' 광고볼때마다 그생각나 포포리 ', ' 억울해도 개돼지들한테 걸렸으니 앞으로 프로포폴 이미지 계속 가겠네 기사 안 읽고 쓴거 같은 댓글들이 배댓 점령한거 보면 쟤들은 검찰 경찰에서 아니라고 해도 끝까지 유죄추정을 넘어 유죄판결한다 ㅋㅋㅋ ', ' 푹쉬셔 ']\n"
     ]
    }
   ],
   "source": [
    "normalized_text = []\n",
    "for string in comments:\n",
    "    try:\n",
    "        tokens = re.sub(r\"[^ㄱ-ㅎㅏ-ㅣ가-힣]+\", \" \",string)\n",
    "    except Exception as e:\n",
    "        print(string)\n",
    "        break\n",
    "    normalized_text.append(tokens)\n",
    "print(normalized_text[:5])"
   ]
  },
  {
   "cell_type": "code",
   "execution_count": 89,
   "metadata": {},
   "outputs": [],
   "source": [
    "p_comment_list = []"
   ]
  },
  {
   "cell_type": "code",
   "execution_count": 90,
   "metadata": {},
   "outputs": [],
   "source": [
    "for comment in comments:\n",
    "    p_comment_list.append(normalized_text)"
   ]
  },
  {
   "cell_type": "code",
   "execution_count": 91,
   "metadata": {},
   "outputs": [],
   "source": [
    "file = open('new6.txt','w',encoding = 'utf-8')\n",
    "for comment in normalized_text:\n",
    "    file.write(comment + '\\n')\n",
    "file.close()"
   ]
  },
  {
   "cell_type": "code",
   "execution_count": null,
   "metadata": {},
   "outputs": [],
   "source": []
  }
 ],
 "metadata": {
  "kernelspec": {
   "display_name": "Python 3",
   "language": "python",
   "name": "python3"
  },
  "language_info": {
   "codemirror_mode": {
    "name": "ipython",
    "version": 3
   },
   "file_extension": ".py",
   "mimetype": "text/x-python",
   "name": "python",
   "nbconvert_exporter": "python",
   "pygments_lexer": "ipython3",
   "version": "3.7.4"
  }
 },
 "nbformat": 4,
 "nbformat_minor": 2
}
