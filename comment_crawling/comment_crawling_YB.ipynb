{
 "cells": [
  {
   "cell_type": "code",
   "execution_count": 40,
   "metadata": {},
   "outputs": [],
   "source": [
    "import time\n",
    "import re"
   ]
  },
  {
   "cell_type": "code",
   "execution_count": 41,
   "metadata": {},
   "outputs": [],
   "source": [
    "from bs4 import BeautifulSoup\n",
    "from selenium import webdriver\n",
    "from selenium.common import exceptions\n",
    "from selenium.webdriver.support.ui import WebDriverWait\n",
    "from selenium.webdriver.support import expected_conditions as EC\n",
    "from selenium.webdriver.common.by import By"
   ]
  },
  {
   "cell_type": "code",
   "execution_count": 42,
   "metadata": {},
   "outputs": [],
   "source": [
    "wd = \"D:\\\\Users\\\\kimdu\\\\Desktop\\\\GRAD\\\\chromedriver.exe\"\n",
    "addr = \"https://news.nate.com/view/20200415n16363?mid=n1008\"    # 기사 주소 넣기\n",
    "addr_nums = re.findall(\"\\d+\", addr)\n",
    "addr_comment = 'http://comm.news.nate.com/Comment/ArticleComment/List?artc_sq='+addr_nums[0]+'n'+addr_nums[1] # 댓글창 주소"
   ]
  },
  {
   "cell_type": "code",
   "execution_count": 43,
   "metadata": {},
   "outputs": [],
   "source": [
    "driver = webdriver.Chrome(wd)\n",
    "driver.get(addr_comment)"
   ]
  },
  {
   "cell_type": "code",
   "execution_count": 44,
   "metadata": {},
   "outputs": [],
   "source": [
    "pages = 2"
   ]
  },
  {
   "cell_type": "code",
   "execution_count": 45,
   "metadata": {},
   "outputs": [
    {
     "output_type": "stream",
     "name": "stdout",
     "text": "2Message: \n\n"
    }
   ],
   "source": [
    "try:\n",
    "    for i in range(5):\n",
    "        WebDriverWait(driver, 10).until(EC.element_to_be_clickable((By.CSS_SELECTOR,\"body > div.commentBox.reply_hide > div:nth-child(3) > div.paging_wrap > a:nth-child(\"+str(pages)+\")\"))).click()\n",
    "        time.sleep(2)\n",
    "        print(pages, end=\" \")\n",
    "        pages+=1\n",
    "except exceptions.ElementNotVisibleException as e: # 페이지 끝\n",
    "    pass\n",
    "except Exception as e: # 다른 예외 발생시 확인\n",
    "    print(e)"
   ]
  },
  {
   "cell_type": "code",
   "execution_count": 46,
   "metadata": {},
   "outputs": [],
   "source": [
    "html = driver.page_source\n",
    "dom = BeautifulSoup(html, \"lxml\")"
   ]
  },
  {
   "cell_type": "code",
   "execution_count": 47,
   "metadata": {},
   "outputs": [],
   "source": [
    "# 댓글이 들어있는 페이지 전체 크롤링\n",
    "comments_raw = dom.find_all('dd',{'class':'usertxt'})\n",
    "# 댓글의 text만 뽑는다.\n",
    "comments = [comment.text for comment in comments_raw]"
   ]
  },
  {
   "cell_type": "code",
   "execution_count": 48,
   "metadata": {},
   "outputs": [
    {
     "output_type": "execute_result",
     "data": {
      "text/plain": "['\\nizi가 밴드였다니  너무머시써!!!!!!!!\\t\\t\\t  ',\n '\\n김준한만의 그 대사를 약간 끊어치는매력? 그런게있는데 좋음 ㅋㅋ 목소리도좋고\\t\\t\\t  ',\n '\\n김준한 배우 이분 연기 자연스럽게 완전 잘하심. 마스크도 괜찮고  넘 좋아요 ㅋㅋㅋ 봄밤 한지민 남친으로 나왔을 때도 생활연기 대박이었음\\t\\t\\t  ',\n '\\n송이한테의 고백이 너무 담백하고 좋더라...\\n맘에없다가도 맘이생길듯한 고백이었어 ㅠㅠ\\n으헉 내가 다 설레네\\t\\t\\t  ',\n '\\n진짜? 와~~  몰랐네 ㅎㅎㅎㅎ\\t\\t\\t  ',\n '\\n가수 izi\\n드러머 출신\\n김준한\\n배우 전향\\n성공입니다\\n축하합니다\\t\\t\\t  ',\n '\\n밴드 출신인데도 연기 자연스럽게 잘해서 베테랑연기자 같아 진짜 놀랐음 김준환씨 앞으로 더 흥하세요~\\t\\t\\t  ',\n '\\n슬빵에서 해롱이 남친 너무 이쁘게 웃음\\t\\t\\t  ',\n '\\n와..\\n김준한\\n드러머 출신이였네\\n대박이네요\\n응원합니다\\n파이팅\\t\\t\\t  ',\n '\\n와...이건 몰랐네...대박\\t\\t\\t  ']"
     },
     "metadata": {},
     "execution_count": 48
    }
   ],
   "source": [
    "comments[:10]"
   ]
  },
  {
   "cell_type": "code",
   "execution_count": 49,
   "metadata": {},
   "outputs": [
    {
     "output_type": "stream",
     "name": "stdout",
     "text": "[' 가 밴드였다니 너무머시써 ', ' 김준한만의 그 대사를 약간 끊어치는매력 그런게있는데 좋음 ㅋㅋ 목소리도좋고 ', ' 김준한 배우 이분 연기 자연스럽게 완전 잘하심 마스크도 괜찮고 넘 좋아요 ㅋㅋㅋ 봄밤 한지민 남친으로 나왔을 때도 생활연기 대박이었음 ', ' 송이한테의 고백이 너무 담백하고 좋더라 맘에없다가도 맘이생길듯한 고백이었어 ㅠㅠ 으헉 내가 다 설레네 ', ' 진짜 와 몰랐네 ㅎㅎㅎㅎ ']\n"
    }
   ],
   "source": [
    "normalized_text = []\n",
    "for string in comments:\n",
    "    try:\n",
    "        tokens = re.sub(r\"[^ㄱ-ㅎㅏ-ㅣ가-힣]+\", \" \",string)\n",
    "    except Exception as e:\n",
    "        print(string)\n",
    "        break\n",
    "    normalized_text.append(tokens)\n",
    "print(normalized_text[:5])"
   ]
  },
  {
   "cell_type": "code",
   "execution_count": 50,
   "metadata": {},
   "outputs": [],
   "source": [
    "p_comment_list = []"
   ]
  },
  {
   "cell_type": "code",
   "execution_count": 51,
   "metadata": {},
   "outputs": [],
   "source": [
    "for comment in comments:\n",
    "    p_comment_list.append(normalized_text)"
   ]
  },
  {
   "cell_type": "code",
   "execution_count": 52,
   "metadata": {},
   "outputs": [],
   "source": [
    "file = open('new11.txt','w',encoding = 'utf-8')\n",
    "for comment in normalized_text:\n",
    "    file.write(comment + '\\n')\n",
    "file.close()"
   ]
  },
  {
   "cell_type": "code",
   "execution_count": null,
   "metadata": {},
   "outputs": [],
   "source": []
  }
 ],
 "metadata": {
  "kernelspec": {
   "display_name": "Python 3",
   "language": "python",
   "name": "python3"
  },
  "language_info": {
   "codemirror_mode": {
    "name": "ipython",
    "version": 3
   },
   "file_extension": ".py",
   "mimetype": "text/x-python",
   "name": "python",
   "nbconvert_exporter": "python",
   "pygments_lexer": "ipython3",
   "version": "3.7.4-final"
  }
 },
 "nbformat": 4,
 "nbformat_minor": 2
}