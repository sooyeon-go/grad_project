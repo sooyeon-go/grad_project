{
 "cells": [
  {
   "cell_type": "code",
   "execution_count": 1,
   "metadata": {},
   "outputs": [],
   "source": [
    "import time\n",
    "import re"
   ]
  },
  {
   "cell_type": "code",
   "execution_count": 2,
   "metadata": {},
   "outputs": [],
   "source": [
    "from bs4 import BeautifulSoup\n",
    "from selenium import webdriver\n",
    "from selenium.common import exceptions\n",
    "from selenium.webdriver.support.ui import WebDriverWait\n",
    "from selenium.webdriver.support import expected_conditions as EC\n",
    "from selenium.webdriver.common.by import By"
   ]
  },
  {
   "cell_type": "code",
   "execution_count": 3,
   "metadata": {},
   "outputs": [],
   "source": [
    "wd = \"C:\\\\Users\\\\user\\\\Downloads\\\\chromedriver_win32\\\\chromedriver.exe\"\n",
    "addr = \"https://news.nate.com/view/20200413n16162?mid=n1008\"    # 기사 주소 넣기\n",
    "addr_nums = re.findall(\"\\d+\", addr)\n",
    "addr_comment = 'http://comm.news.nate.com/Comment/ArticleComment/List?artc_sq='+addr_nums[0]+'n'+addr_nums[1] # 댓글창 주소"
   ]
  },
  {
   "cell_type": "code",
   "execution_count": 4,
   "metadata": {},
   "outputs": [],
   "source": [
    "driver = webdriver.Chrome(wd)\n",
    "driver.get(addr_comment)"
   ]
  },
  {
   "cell_type": "code",
   "execution_count": 23,
   "metadata": {},
   "outputs": [],
   "source": [
    "pages = 1"
   ]
  },
  {
   "cell_type": "code",
   "execution_count": 24,
   "metadata": {},
   "outputs": [
    {
     "name": "stdout",
     "output_type": "stream",
     "text": [
      "1 2 3 4 5 "
     ]
    }
   ],
   "source": [
    "try:\n",
    "    for i in range(5):\n",
    "        WebDriverWait(driver, 10).until(EC.element_to_be_clickable((By.CSS_SELECTOR,\"body > div.commentBox.reply_hide > div:nth-child(3) > div.paging_wrap > a:nth-child(\"+str(pages)+\")\"))).click()\n",
    "        time.sleep(2)\n",
    "        print(pages, end=\" \")\n",
    "        pages+=1\n",
    "except exceptions.ElementNotVisibleException as e: # 페이지 끝\n",
    "    pass\n",
    "except Exception as e: # 다른 예외 발생시 확인\n",
    "    print(e)"
   ]
  },
  {
   "cell_type": "code",
   "execution_count": 25,
   "metadata": {},
   "outputs": [],
   "source": [
    "html = driver.page_source\n",
    "dom = BeautifulSoup(html, \"lxml\")"
   ]
  },
  {
   "cell_type": "code",
   "execution_count": 26,
   "metadata": {},
   "outputs": [],
   "source": [
    "# 댓글이 들어있는 페이지 전체 크롤링\n",
    "comments_raw = dom.find_all('dd',{'class':'usertxt'})\n",
    "# 댓글의 text만 뽑는다.\n",
    "comments = [comment.text for comment in comments_raw]"
   ]
  },
  {
   "cell_type": "code",
   "execution_count": 27,
   "metadata": {},
   "outputs": [
    {
     "data": {
      "text/plain": [
       "['\\n빙시로 아나 ㅋㅋㅋ\\t\\t\\t  ',\n",
       " '\\n댓글들 기사 읽은 거 맞냐?\\n문자 증거 다 있다잖아\\n프로포폴 해명 가능하지\\n게다가 의사는 구속됨.\\n이게 뭘 의미하는지  생각이나 하고 댓글 써라\\n하정우는 싹다 고소나 하길\\n아까운 젊은이 둘이나 악플들로 보내놓고 \\n또 참 잘들 하는 짓이다\\t\\t\\t  ',\n",
       " '\\n오케이 느그애들 해킹피해금 오케이\\n내가 업주들한테 얘기해가\\n퇴직금이니 피해금이니 최대한\\n챙겨주도록 얘기하께\\n근데,느그아들이 여기있는건 안되지\\n어디 다른식구끼리 한곳에 있노\\nㆍ\\nㆍ\\n쉐키야 그게 말이가 지금\\nㆍ\\nㆍ\\n쉐키? 임마 나이 먹더니 이제 입에서\\n쉐키 소리까지 나오네\\n불 함 붙이봐라\\nㆍ\\nㆍ\\n아나~\\nㆍ\\n붙이봐라\\nㆍ\\n아따마..우리 최사장 오늘 뭘 잘못드셨나\\n행배야 내 이따 아이가 \\n어릇을적 니 담뱃불 붙히던 김판호 아이다\\nㆍ\\nㆍ\\n안되겠다 니 오늘 좀 맞자\\nㆍ\\nㆍ\\n쨍그랑 퍽 윽엑 윽\\t\\t\\t  ',\n",
       " '\\n프로포폴 관련 인터뷰도 해주세요!\\t\\t\\t  ',\n",
       " '\\n기자 섭외 했네\\t\\t\\t  ',\n",
       " '\\n아 근데 진짜 실망임ㅠㅠ\\n영화에서는 악당들 시원하게 물리치고 사이다 날리는 역할이였으면서ㅠㅠ 현실에서는ㅠㅠ 숨고...물론 이미지라고는 한다해도.\\n실망\\t\\t\\t  ',\n",
       " '\\n이 기사로 유추할 수 있는 것. 1. 가해자들이 협박하면서 형님이라고 했다는 건 상대가 남자들의 공공연한 이상형일 가능성이 높음. 2. 영화개봉에 직접적 영향을 줄 대중적 인기의 상대녀 3. 그렇다면 하정우 입장에서 딱히 이미지 훼손될 이유가 없다고 판단. 평소 하정우는 카톡이나 메시지보다는 차라리 전화하는 편이며, 연인들이랑 연락문제에 취약하다 말하고 다닐 정도라 사생활이 크게 노출이 안됨. 유부남도 아니었고 유명인과의 열애설 정도의 타격이었기에. 4. 협박시기상 전여친이 아닌 현여친일 가능성도 높음.\\t\\t\\t  ',\n",
       " '\\n피해자욕하지마라  \\n몸팔다 당한년들은  피해자니까 욕하지말라면서\\t\\t\\t  ',\n",
       " '\\n전여친이랑 찍은 여행 사진 몇장 가지고 협박을 했을까? ?  다른 연예인들에게 6억이나 받아낼 정도면 공개되면 문제 될 뭔가를 가지고 했겠지\\t\\t\\t  ',\n",
       " '\\n하로포폴\\t\\t\\t  ']"
      ]
     },
     "execution_count": 27,
     "metadata": {},
     "output_type": "execute_result"
    }
   ],
   "source": [
    "comments[:10]"
   ]
  },
  {
   "cell_type": "code",
   "execution_count": 29,
   "metadata": {},
   "outputs": [
    {
     "name": "stdout",
     "output_type": "stream",
     "text": [
      "[' 빙시로 아나 ㅋㅋㅋ ', ' 댓글들 기사 읽은 거 맞냐 문자 증거 다 있다잖아 프로포폴 해명 가능하지 게다가 의사는 구속됨 이게 뭘 의미하는지 생각이나 하고 댓글 써라 하정우는 싹다 고소나 하길 아까운 젊은이 둘이나 악플들로 보내놓고 또 참 잘들 하는 짓이다 ', ' 오케이 느그애들 해킹피해금 오케이 내가 업주들한테 얘기해가 퇴직금이니 피해금이니 최대한 챙겨주도록 얘기하께 근데 느그아들이 여기있는건 안되지 어디 다른식구끼리 한곳에 있노 쉐키야 그게 말이가 지금 쉐키 임마 나이 먹더니 이제 입에서 쉐키 소리까지 나오네 불 함 붙이봐라 아나 붙이봐라 아따마 우리 최사장 오늘 뭘 잘못드셨나 행배야 내 이따 아이가 어릇을적 니 담뱃불 붙히던 김판호 아이다 안되겠다 니 오늘 좀 맞자 쨍그랑 퍽 윽엑 윽 ', ' 프로포폴 관련 인터뷰도 해주세요 ', ' 기자 섭외 했네 ']\n"
     ]
    }
   ],
   "source": [
    "normalized_text = []\n",
    "for string in comments:\n",
    "    try:\n",
    "        tokens = re.sub(r\"[^ㄱ-ㅎㅏ-ㅣ가-힣]+\", \" \",string)\n",
    "    except Exception as e:\n",
    "        print(string)\n",
    "        break\n",
    "    normalized_text.append(tokens)\n",
    "print(normalized_text[:5])"
   ]
  },
  {
   "cell_type": "code",
   "execution_count": 21,
   "metadata": {},
   "outputs": [],
   "source": [
    "p_comment_list = []"
   ]
  },
  {
   "cell_type": "code",
   "execution_count": 30,
   "metadata": {},
   "outputs": [],
   "source": [
    "for comment in comments:\n",
    "    p_comment_list.append(normalized_text)"
   ]
  },
  {
   "cell_type": "code",
   "execution_count": 34,
   "metadata": {},
   "outputs": [],
   "source": [
    "file = open('new2.txt','w',encoding = 'utf-8')\n",
    "for comment in normalized_text:\n",
    "    file.write(comment + '\\n')\n",
    "file.close()"
   ]
  },
  {
   "cell_type": "code",
   "execution_count": null,
   "metadata": {},
   "outputs": [],
   "source": []
  }
 ],
 "metadata": {
  "kernelspec": {
   "display_name": "Python 3",
   "language": "python",
   "name": "python3"
  },
  "language_info": {
   "codemirror_mode": {
    "name": "ipython",
    "version": 3
   },
   "file_extension": ".py",
   "mimetype": "text/x-python",
   "name": "python",
   "nbconvert_exporter": "python",
   "pygments_lexer": "ipython3",
   "version": "3.7.4"
  }
 },
 "nbformat": 4,
 "nbformat_minor": 2
}
