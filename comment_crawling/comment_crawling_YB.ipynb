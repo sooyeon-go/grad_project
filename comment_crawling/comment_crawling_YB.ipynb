{
 "cells": [
  {
   "cell_type": "code",
   "execution_count": 92,
   "metadata": {},
   "outputs": [],
   "source": [
    "import time\n",
    "import re"
   ]
  },
  {
   "cell_type": "code",
   "execution_count": 93,
   "metadata": {},
   "outputs": [],
   "source": [
    "from bs4 import BeautifulSoup\n",
    "from selenium import webdriver\n",
    "from selenium.common import exceptions\n",
    "from selenium.webdriver.support.ui import WebDriverWait\n",
    "from selenium.webdriver.support import expected_conditions as EC\n",
    "from selenium.webdriver.common.by import By"
   ]
  },
  {
   "cell_type": "code",
   "execution_count": 94,
   "metadata": {},
   "outputs": [],
   "source": [
    "wd = \"C:\\\\Users\\\\user\\\\Downloads\\\\chromedriver_win32\\\\chromedriver.exe\"\n",
    "addr = \"https://news.nate.com/view/20200413n23903?mid=n1008\"    # 기사 주소 넣기\n",
    "addr_nums = re.findall(\"\\d+\", addr)\n",
    "addr_comment = 'http://comm.news.nate.com/Comment/ArticleComment/List?artc_sq='+addr_nums[0]+'n'+addr_nums[1] # 댓글창 주소"
   ]
  },
  {
   "cell_type": "code",
   "execution_count": 95,
   "metadata": {},
   "outputs": [],
   "source": [
    "driver = webdriver.Chrome(wd)\n",
    "driver.get(addr_comment)"
   ]
  },
  {
   "cell_type": "code",
   "execution_count": 96,
   "metadata": {},
   "outputs": [],
   "source": [
    "pages = 2"
   ]
  },
  {
   "cell_type": "code",
   "execution_count": 97,
   "metadata": {},
   "outputs": [
    {
     "output_type": "stream",
     "text": [
      "2 3 4 5 6 "
     ]
    }
   ],
   "source": [
    "try:\n",
    "    for i in range(5):\n",
    "        WebDriverWait(driver, 10).until(EC.element_to_be_clickable((By.CSS_SELECTOR,\"body > div.commentBox.reply_hide > div:nth-child(3) > div.paging_wrap > a:nth-child(\"+str(pages)+\")\"))).click()\n",
    "        time.sleep(1)\n",
    "        print(pages, end=\" \")\n",
    "        pages+=1\n",
    "except exceptions.ElementNotVisibleException as e: # 페이지 끝\n",
    "    pass\n",
    "except Exception as e: # 다른 예외 발생시 확인\n",
    "    print(e)"
   ]
  },
  {
   "cell_type": "code",
   "execution_count": 98,
   "metadata": {},
   "outputs": [],
   "source": [
    "html = driver.page_source\n",
    "dom = BeautifulSoup(html, \"lxml\")"
   ]
  },
  {
   "cell_type": "code",
   "execution_count": 99,
   "metadata": {},
   "outputs": [],
   "source": [
    "# 댓글이 들어있는 페이지 전체 크롤링\n",
    "comments_raw = dom.find_all('dd',{'class':'usertxt'})\n",
    "# 댓글의 text만 뽑는다.\n",
    "comments = [comment.text for comment in comments_raw]"
   ]
  },
  {
   "cell_type": "code",
   "execution_count": 100,
   "metadata": {},
   "outputs": [
    {
     "output_type": "execute_result",
     "data": {
      "text/plain": [
       "['\\n\\t\\t\\t막 찍어도 화보같아 울 진ㅜㅜㅜ\\t\\t\\t  ',\n",
       " '\\n화사 일상이랑 일할 때랑 180도 다른 거 너무 신기하면서도 좋다 ㅋㅋㅋㅋㅋㅋㅋㅋㅋ\\t\\t\\t  ',\n",
       " '\\n안혜진 어떻게 힘주고 찍은 사진이나 각도, 포즈 잡은 것도 아닌데 저렇게 집에서 찍은 게 화보 같은 거 보면.. 진짜 슈스는 슈슨가봄. 연예인 티가 팍팍 나... 대박 진짜 인스타 페북에서 유명한 사람도 연예인 포스는 못 따라잡을 것 같다\\t\\t\\t  ',\n",
       " '\\n화사 인스타 분위기 넘좋\\t\\t\\t  ',\n",
       " '\\n\\t\\t\\t화보아니었음??헐랭.. 저 티 사고싶다\\t\\t\\t  ',\n",
       " '\\n귀여워ㅠㅠㅠㅠㅠ\\t\\t\\t  ',\n",
       " '\\n저런사진 진짜 어떻게 찍는걸까 ㅋㅋㅋㅋㅋㅋㅋㅋㅋㅋㅋㅋㅋㅋㅋㅋㅋㅋㅋㅋㅋㅋㅋㅋㅋㅋ\\t\\t\\t  ',\n",
       " '\\n\\t\\t\\t사진 어떻게 찍은거야ㅋㅋㅋ 던져서 찍은거면 졸귀\\t\\t\\t  ',\n",
       " '\\n화보네 멋있다 화사\\t\\t\\t  ',\n",
       " '\\n이 언니 이제 집에서까지 화보를 찍네 이러니 내가 좋아하지!!\\t\\t\\t  ']"
      ]
     },
     "execution_count": 100,
     "metadata": {},
     "execution_count": 93
    }
   ],
   "source": [
    "comments[:10]"
   ]
  },
  {
   "cell_type": "code",
   "execution_count": 101,
   "metadata": {},
   "outputs": [
    {
     "name": "stdout",
     "output_type": "stream",
     "text": [
      "[' 막 찍어도 화보같아 울 진ㅜㅜㅜ ', ' 화사 일상이랑 일할 때랑 도 다른 거 너무 신기하면서도 좋다 ㅋㅋㅋㅋㅋㅋㅋㅋㅋ ', ' 안혜진 어떻게 힘주고 찍은 사진이나 각도 포즈 잡은 것도 아닌데 저렇게 집에서 찍은 게 화보 같은 거 보면 진짜 슈스는 슈슨가봄 연예인 티가 팍팍 나 대박 진짜 인스타 페북에서 유명한 사람도 연예인 포스는 못 따라잡을 것 같다 ', ' 화사 인스타 분위기 넘좋 ', ' 화보아니었음 헐랭 저 티 사고싶다 ']\n"
     ]
    }
   ],
   "source": [
    "normalized_text = []\n",
    "for string in comments:\n",
    "    try:\n",
    "        tokens = re.sub(r\"[^ㄱ-ㅎㅏ-ㅣ가-힣]+\", \" \",string)\n",
    "    except Exception as e:\n",
    "        print(string)\n",
    "        break\n",
    "    normalized_text.append(tokens)\n",
    "print(normalized_text[:5])"
   ]
  },
  {
   "cell_type": "code",
   "execution_count": 102,
   "metadata": {},
   "outputs": [],
   "source": [
    "p_comment_list = []"
   ]
  },
  {
   "cell_type": "code",
   "execution_count": 103,
   "metadata": {},
   "outputs": [],
   "source": [
    "for comment in comments:\n",
    "    p_comment_list.append(normalized_text)"
   ]
  },
  {
   "cell_type": "code",
   "execution_count": 104,
   "metadata": {},
   "outputs": [],
   "source": [
    "file = open('new7.txt','w',encoding = 'utf-8')\n",
    "for comment in normalized_text:\n",
    "    file.write(comment + '\\n')\n",
    "file.close()"
   ]
  },
  {
   "cell_type": "code",
   "execution_count": null,
   "metadata": {},
   "outputs": [],
   "source": []
  }
 ],
 "metadata": {
  "kernelspec": {
   "display_name": "Python 3",
   "language": "python",
   "name": "python3"
  },
  "language_info": {
   "codemirror_mode": {
    "name": "ipython",
    "version": 3
   },
   "file_extension": ".py",
   "mimetype": "text/x-python",
   "name": "python",
   "nbconvert_exporter": "python",
   "pygments_lexer": "ipython3",
   "version": "3.7.4"
  }
 },
 "nbformat": 4,
 "nbformat_minor": 2
}
