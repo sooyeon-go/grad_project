{
 "cells": [
  {
   "cell_type": "code",
   "execution_count": 36,
   "metadata": {},
   "outputs": [],
   "source": [
    "import time"
   ]
  },
  {
   "cell_type": "code",
   "execution_count": 37,
   "metadata": {},
   "outputs": [],
   "source": [
    "from bs4 import BeautifulSoup\n",
    "from selenium import webdriver\n",
    "from selenium.common import exceptions"
   ]
  },
  {
   "cell_type": "code",
   "execution_count": 48,
   "metadata": {},
   "outputs": [],
   "source": [
    "wd = \"C:\\\\Users\\\\user\\\\Downloads\\\\chromedriver_win32\\\\chromedriver\"\n",
    "addr = \"https://entertain.naver.com/ranking/comment/list?oid=433&aid=0000061012\""
   ]
  },
  {
   "cell_type": "code",
   "execution_count": 49,
   "metadata": {},
   "outputs": [],
   "source": [
    "driver = webdriver.Chrome(wd)\n",
    "driver.get(addr)"
   ]
  },
  {
   "cell_type": "code",
   "execution_count": 50,
   "metadata": {},
   "outputs": [],
   "source": [
    "pages = 0"
   ]
  },
  {
   "cell_type": "code",
   "execution_count": 51,
   "metadata": {},
   "outputs": [
    {
     "name": "stdout",
     "output_type": "stream",
     "text": [
      "0 1 2 3 4 5 6 7 8 9 10 11 12 13 14 15 16 17 18 19 20 21 22 23 24 25 26 27 28 29 30 31 32 33 34 35 36 37 38 39 40 41 42 43 44 45 46 47 48 49 50 51 52 53 54 55 56 57 58 59 60 61 62 63 64 65 66 67 68 69 70 71 72 73 Message: element not interactable\n",
      "  (Session info: chrome=79.0.3945.117)\n",
      "\n"
     ]
    }
   ],
   "source": [
    "try:\n",
    "    while True:\n",
    "        driver.find_element_by_css_selector(\".u_cbox_btn_more\").click()\n",
    "        time.sleep(1.5)\n",
    "        print(pages, end=\" \")\n",
    "        pages+=1\n",
    "except exceptions.ElementNotVisibleException as e: # 페이지 끝\n",
    "    pass\n",
    "    \n",
    "except Exception as e: # 다른 예외 발생시 확인\n",
    "    print(e)"
   ]
  },
  {
   "cell_type": "code",
   "execution_count": 52,
   "metadata": {},
   "outputs": [],
   "source": [
    "html = driver.page_source\n",
    "dom = BeautifulSoup(html, \"lxml\")"
   ]
  },
  {
   "cell_type": "code",
   "execution_count": 53,
   "metadata": {},
   "outputs": [],
   "source": [
    "# 댓글이 들어있는 페이지 전체 크롤링\n",
    "comments_raw = dom.find_all(\"span\", {\"class\" : \"u_cbox_contents\"})\n",
    "# 댓글의 text만 뽑는다.\n",
    "comments = [comment.text for comment in comments_raw]\n"
   ]
  },
  {
   "cell_type": "code",
   "execution_count": 54,
   "metadata": {},
   "outputs": [
    {
     "data": {
      "text/plain": [
       "['정말 깬다. 장자연 사건 이후 밖에도 못 나갔다던 분이 승무원 옷 입고 저런 방송 하는 말이랑 행동이 다르신 분. ㅋ 죽은 장자연만 안쓰러울 뿐',\n",
       " '안민석 손석희 김어준 니네 셋은 아직도 사과 안하냐',\n",
       " '진짜 고발된 영상은 수위가 저정도가 아닙니다. 다 드러납니다. 저건 정말 아무것도 아닙니다.']"
      ]
     },
     "execution_count": 54,
     "metadata": {},
     "output_type": "execute_result"
    }
   ],
   "source": [
    "comments[:3]"
   ]
  },
  {
   "cell_type": "code",
   "execution_count": 55,
   "metadata": {},
   "outputs": [],
   "source": [
    "p_comment_list = []"
   ]
  },
  {
   "cell_type": "code",
   "execution_count": 56,
   "metadata": {},
   "outputs": [],
   "source": [
    "for comment in comments:\n",
    "    p_comment_list.append(comment)"
   ]
  },
  {
   "cell_type": "code",
   "execution_count": 57,
   "metadata": {},
   "outputs": [],
   "source": [
    "file = open('n_comment23.txt','w',encoding = 'utf-8')\n",
    "for comment in p_comment_list:\n",
    "    file.write(comment + '\\n')\n",
    "file.close()"
   ]
  },
  {
   "cell_type": "code",
   "execution_count": null,
   "metadata": {},
   "outputs": [],
   "source": []
  }
 ],
 "metadata": {
  "kernelspec": {
   "display_name": "Python 3",
   "language": "python",
   "name": "python3"
  },
  "language_info": {
   "codemirror_mode": {
    "name": "ipython",
    "version": 3
   },
   "file_extension": ".py",
   "mimetype": "text/x-python",
   "name": "python",
   "nbconvert_exporter": "python",
   "pygments_lexer": "ipython3",
   "version": "3.7.4"
  }
 },
 "nbformat": 4,
 "nbformat_minor": 2
}
