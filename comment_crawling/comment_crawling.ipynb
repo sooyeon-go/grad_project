{
 "cells": [
  {
   "cell_type": "code",
   "execution_count": 1,
   "metadata": {},
   "outputs": [],
   "source": [
    "import time"
   ]
  },
  {
   "cell_type": "code",
   "execution_count": 2,
   "metadata": {},
   "outputs": [],
   "source": [
    "from bs4 import BeautifulSoup\n",
    "from selenium import webdriver\n",
    "from selenium.common import exceptions"
   ]
  },
  {
   "cell_type": "code",
   "execution_count": 17,
   "metadata": {},
   "outputs": [],
   "source": [
    "wd = \"C:\\\\Users\\\\user\\\\Downloads\\\\chromedriver_win32\\\\chromedriver\"\n",
    "addr = \"https://entertain.naver.com/ranking/read?oid=312&aid=0000435576\""
   ]
  },
  {
   "cell_type": "code",
   "execution_count": 18,
   "metadata": {},
   "outputs": [],
   "source": [
    "driver = webdriver.Chrome(wd)\n",
    "driver.get(addr)"
   ]
  },
  {
   "cell_type": "code",
   "execution_count": 19,
   "metadata": {},
   "outputs": [],
   "source": [
    "pages = 0"
   ]
  },
  {
   "cell_type": "code",
   "execution_count": 20,
   "metadata": {},
   "outputs": [
    {
     "name": "stdout",
     "output_type": "stream",
     "text": [
      "Message: no such element: Unable to locate element: {\"method\":\"css selector\",\"selector\":\".u_cbox_btn_more\"}\n",
      "  (Session info: chrome=80.0.3987.100)\n",
      "\n"
     ]
    }
   ],
   "source": [
    "try:\n",
    "    while True:\n",
    "        driver.find_element_by_css_selector(\".u_cbox_btn_more\").click()\n",
    "        time.sleep(1.5)\n",
    "        print(pages, end=\" \")\n",
    "        pages+=1\n",
    "except exceptions.ElementNotVisibleException as e: # 페이지 끝\n",
    "    pass\n",
    "    \n",
    "except Exception as e: # 다른 예외 발생시 확인\n",
    "    print(e)"
   ]
  },
  {
   "cell_type": "code",
   "execution_count": 21,
   "metadata": {},
   "outputs": [],
   "source": [
    "html = driver.page_source\n",
    "dom = BeautifulSoup(html, \"lxml\")"
   ]
  },
  {
   "cell_type": "code",
   "execution_count": 22,
   "metadata": {},
   "outputs": [],
   "source": [
    "# 댓글이 들어있는 페이지 전체 크롤링\n",
    "comments_raw = dom.find_all(\"span\", {\"class\" : \"u_cbox_contents\"})\n",
    "# 댓글의 text만 뽑는다.\n",
    "comments = [comment.text for comment in comments_raw]"
   ]
  },
  {
   "cell_type": "code",
   "execution_count": 23,
   "metadata": {},
   "outputs": [
    {
     "data": {
      "text/plain": [
       "['역쉬~~ 임영웅답다!! 두분 다~~ 멋지십니다😍',\n",
       " '우리 임가수 인간성도 좋으시고도진씨도 앞으로 좋은 일만 있으시길바랍니다영웅씨 오늘도 얼마나 좋은 경연 보여 줄지 엄청 기대합니다두분 다 화이팅~',\n",
       " '이도진님도 수고하셨습니다임영웅의 타고난 인성은 누가 가르쳐준다고 나오는것은아닌듯 싶은데~~첫 느낌대로 착하고 노래 잘하고인성 바른 사람이였네요온마음으로 응원하겠습니다💙']"
      ]
     },
     "execution_count": 23,
     "metadata": {},
     "output_type": "execute_result"
    }
   ],
   "source": [
    "comments[:3]"
   ]
  },
  {
   "cell_type": "code",
   "execution_count": 24,
   "metadata": {},
   "outputs": [
    {
     "name": "stdout",
     "output_type": "stream",
     "text": [
      "역쉬~~ 임영웅답다!! 두분 다~~ 멋지십니다😍\n",
      "우리 임가수 인간성도 좋으시고도진씨도 앞으로 좋은 일만 있으시길바랍니다영웅씨 오늘도 얼마나 좋은 경연 보여 줄지 엄청 기대합니다두분 다 화이팅~\n",
      "이도진님도 수고하셨습니다임영웅의 타고난 인성은 누가 가르쳐준다고 나오는것은아닌듯 싶은데~~첫 느낌대로 착하고 노래 잘하고인성 바른 사람이였네요온마음으로 응원하겠습니다💙\n",
      "트롯의 고급화 멋진 임영웅!!\n",
      "임영웅은 우승하고 이도진씨도 약간허스키목소리 매력있으니 어울리는곡받아 성공하세요\n",
      "내가 진짜 제대로 본거맞네 ♡♡영웅님 당신같은분이 있어 감동백배\n",
      "역시 우리 임영웅~😍😍😍😍😍😍😍😍😍😍😍😍😍😍인성드 갑~~~👍👍👍👍👍이러니 안반할수가 읍지~~~~임영웅 화이팅~~~진가즈아~~~💙💙💙💙💙💙💙💙💙💙💙💙💙💙💙💙💙💙💙💙💙💙💙💙💙💙💙💙💙\n",
      "임영웅 볼수록 매력넘쳐요. 레전드 되실듯~ 도진씨와 함께 꽃길 갑시다\n",
      "임영웅님 너무 착해요 우승 꼭 하세요 👌\n",
      "임영웅,이도진 두분의 우정 응원합니다!!! 인물도 훤하시고 노래도 잘하시고.. 다들 훌륭한 가수임에 틀림없네요ㅣ!!!!\n"
     ]
    }
   ],
   "source": [
    "for comment in comments:\n",
    "    print(comment)"
   ]
  },
  {
   "cell_type": "code",
   "execution_count": 11,
   "metadata": {},
   "outputs": [],
   "source": [
    "p_comment_list = []"
   ]
  },
  {
   "cell_type": "code",
   "execution_count": 12,
   "metadata": {},
   "outputs": [],
   "source": [
    "for comment in comments:\n",
    "    p_comment_list.append(comment)"
   ]
  },
  {
   "cell_type": "code",
   "execution_count": 13,
   "metadata": {},
   "outputs": [],
   "source": [
    "file = open('n_comment30.txt','w',encoding = 'utf-8')\n",
    "for comment in p_comment_list:\n",
    "    file.write(comment + '\\n')\n",
    "file.close()"
   ]
  },
  {
   "cell_type": "code",
   "execution_count": null,
   "metadata": {},
   "outputs": [],
   "source": []
  }
 ],
 "metadata": {
  "kernelspec": {
   "display_name": "Python 3",
   "language": "python",
   "name": "python3"
  },
  "language_info": {
   "codemirror_mode": {
    "name": "ipython",
    "version": 3
   },
   "file_extension": ".py",
   "mimetype": "text/x-python",
   "name": "python",
   "nbconvert_exporter": "python",
   "pygments_lexer": "ipython3",
   "version": "3.7.4"
  }
 },
 "nbformat": 4,
 "nbformat_minor": 2
}
