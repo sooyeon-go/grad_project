{
 "cells": [
  {
   "cell_type": "markdown",
   "metadata": {},
   "source": [
    "# text 불러오기 및 전처리"
   ]
  },
  {
   "cell_type": "code",
   "execution_count": 1,
   "metadata": {},
   "outputs": [
    {
     "name": "stdout",
     "output_type": "stream",
     "text": [
      " 헤럴드 박서현기자 조세호 박서준 인스타 . 감량으로 다이어트에 성공한 조세호가 조새로이 로 변신해 화제다. 일 조세호는 자신의 인스타그램을 통해 조새로이 라는 글과 함께 한 장의 사진을 게재했다. 공개된 사진 속에는 조세호가 앞머리를 짧게 짜르고 옆머리를 민 밤톨머리를 한 채 카메라를 응시하고 있다. 최근 많은 사랑을 받고 있는 이태원 클라쓰 의 박새로이를 분하고 있는 박서준의 밤톨머리를 따라한 것. 쉽게 소화하기 어려운 머리를 찰떡같이 소화해낸 조세호가 감탄을 자아낸다. 또한 조세호의 다이어트 성공 후 한층 날카로워진 턱선과 헤어스타일 소화력이 눈길을 끌기도. 앞서 조세호는 지난달 해피투게더 의 아무튼 한달 프로젝트를 통해 다이어트에 성공했다. 당시 조세호는 야식을 끊지 못하는 식습관을 지적 받았고 이에 취침 시간 전 공복을 유지하며 다이어트를 했다. 유재석 등과 함께 운동하며 식이조절까지 겸한 조세호는 그 결과 체중 체지방 . 감량에 성공해 많은 네티즌들의 축하를 받았다. 뿐만 아니라 엑소 찬열은 형..살 어디갔어요 개그맨 양세형은 추배추배추배 인더하우스 라며 놀라워하기도 했다. 조세호의 사진이 공개된 후 네티즌들은 재밌다 살 빠지니까 정말 훈훈하다 유쾌하다 등의 반응이 이어지고 있다. 한편 조세호는 유 퀴즈 온 더 블럭 새 시즌으로 돌아올 예정이다. . 한류스타 바로 앞에서 본다 리얼직캠 헤럴드팝 네이버 헤럴드 . 무단 전재 및 재배포 금지 \n"
     ]
    }
   ],
   "source": [
    "f = open('output_clean.txt','r')\n",
    "data = f.read()\n",
    "print(data)\n",
    "f.close()"
   ]
  },
  {
   "cell_type": "code",
   "execution_count": 2,
   "metadata": {
    "scrolled": true
   },
   "outputs": [
    {
     "data": {
      "text/plain": [
       "[' 헤럴드 박서현기자 조세호 박서준 인스타 ',\n",
       " ' 감량으로 다이어트에 성공한 조세호가 조새로이 로 변신해 화제다',\n",
       " ' 일 조세호는 자신의 인스타그램을 통해 조새로이 라는 글과 함께 한 장의 사진을 게재했다',\n",
       " ' 공개된 사진 속에는 조세호가 앞머리를 짧게 짜르고 옆머리를 민 밤톨머리를 한 채 카메라를 응시하고 있다',\n",
       " ' 최근 많은 사랑을 받고 있는 이태원 클라쓰 의 박새로이를 분하고 있는 박서준의 밤톨머리를 따라한 것',\n",
       " ' 쉽게 소화하기 어려운 머리를 찰떡같이 소화해낸 조세호가 감탄을 자아낸다',\n",
       " ' 또한 조세호의 다이어트 성공 후 한층 날카로워진 턱선과 헤어스타일 소화력이 눈길을 끌기도',\n",
       " ' 앞서 조세호는 지난달 해피투게더 의 아무튼 한달 프로젝트를 통해 다이어트에 성공했다',\n",
       " ' 당시 조세호는 야식을 끊지 못하는 식습관을 지적 받았고 이에 취침 시간 전 공복을 유지하며 다이어트를 했다',\n",
       " ' 유재석 등과 함께 운동하며 식이조절까지 겸한 조세호는 그 결과 체중 체지방 ',\n",
       " ' 감량에 성공해 많은 네티즌들의 축하를 받았다',\n",
       " ' 뿐만 아니라 엑소 찬열은 형',\n",
       " '',\n",
       " '살 어디갔어요 개그맨 양세형은 추배추배추배 인더하우스 라며 놀라워하기도 했다',\n",
       " ' 조세호의 사진이 공개된 후 네티즌들은 재밌다 살 빠지니까 정말 훈훈하다 유쾌하다 등의 반응이 이어지고 있다',\n",
       " ' 한편 조세호는 유 퀴즈 온 더 블럭 새 시즌으로 돌아올 예정이다',\n",
       " ' ',\n",
       " ' 한류스타 바로 앞에서 본다 리얼직캠 헤럴드팝 네이버 헤럴드 ',\n",
       " ' 무단 전재 및 재배포 금지 ']"
      ]
     },
     "execution_count": 2,
     "metadata": {},
     "output_type": "execute_result"
    }
   ],
   "source": [
    "text = data.split('.')\n",
    "text"
   ]
  },
  {
   "cell_type": "markdown",
   "metadata": {},
   "source": [
    "# keyword 추출"
   ]
  },
  {
   "cell_type": "code",
   "execution_count": 3,
   "metadata": {},
   "outputs": [],
   "source": [
    "from krwordrank.sentence import summarize_with_sentences\n",
    "\n",
    "keywords, sents = summarize_with_sentences(text, num_keywords=10, num_keysents=10)"
   ]
  },
  {
   "cell_type": "code",
   "execution_count": 4,
   "metadata": {},
   "outputs": [
    {
     "data": {
      "text/plain": [
       "{'조세호': 1.3690036520596678}"
      ]
     },
     "execution_count": 4,
     "metadata": {},
     "output_type": "execute_result"
    }
   ],
   "source": [
    "keywords"
   ]
  },
  {
   "cell_type": "code",
   "execution_count": 5,
   "metadata": {},
   "outputs": [
    {
     "data": {
      "text/plain": [
       "[' 헤럴드 박서현기자 조세호 박서준 인스타 ',\n",
       " ' 최근 많은 사랑을 받고 있는 이태원 클라쓰 의 박새로이를 분하고 있는 박서준의 밤톨머리를 따라한 것',\n",
       " ' 감량에 성공해 많은 네티즌들의 축하를 받았다',\n",
       " ' 뿐만 아니라 엑소 찬열은 형',\n",
       " '',\n",
       " '살 어디갔어요 개그맨 양세형은 추배추배추배 인더하우스 라며 놀라워하기도 했다',\n",
       " ' ',\n",
       " ' 한류스타 바로 앞에서 본다 리얼직캠 헤럴드팝 네이버 헤럴드 ',\n",
       " ' 무단 전재 및 재배포 금지 ',\n",
       " ' 감량으로 다이어트에 성공한 조세호가 조새로이 로 변신해 화제다']"
      ]
     },
     "execution_count": 5,
     "metadata": {},
     "output_type": "execute_result"
    }
   ],
   "source": [
    "sents"
   ]
  },
  {
   "cell_type": "code",
   "execution_count": 6,
   "metadata": {},
   "outputs": [
    {
     "data": {
      "text/plain": [
       "['조세호']"
      ]
     },
     "execution_count": 6,
     "metadata": {},
     "output_type": "execute_result"
    }
   ],
   "source": [
    "keyword = list(keywords.keys())\n",
    "keyword"
   ]
  },
  {
   "cell_type": "code",
   "execution_count": null,
   "metadata": {},
   "outputs": [],
   "source": []
  }
 ],
 "metadata": {
  "kernelspec": {
   "display_name": "Python 3",
   "language": "python",
   "name": "python3"
  },
  "language_info": {
   "codemirror_mode": {
    "name": "ipython",
    "version": 3
   },
   "file_extension": ".py",
   "mimetype": "text/x-python",
   "name": "python",
   "nbconvert_exporter": "python",
   "pygments_lexer": "ipython3",
   "version": "3.7.4"
  }
 },
 "nbformat": 4,
 "nbformat_minor": 2
}
