{
 "cells": [
  {
   "cell_type": "markdown",
   "metadata": {},
   "source": [
    "# Pandas 특강\n",
    "\n",
    "# 0. Pandas란?\n",
    "\n",
    "## 1) 필요성\n",
    "\n",
    "data가 많아짐에 잘 저장하고 분석할 필요가 있습니다.\n",
    "\n",
    "그러한 data를 동일한 형식으로 저장할 필요가 있습니다.\n",
    "\n",
    "이런 필요를 동시에 충족시켜주는 것이 pandas입니다.\n",
    "\n",
    "(서로 다른 종류의 데이터를 한 곳에 담는 그릇을 제공한다고 생각해도 됩니다.)\n",
    "\n",
    "그러한 그릇을 1차원 배열에 담기도 2차원 배열에 담기도 합니다.\n",
    "\n",
    "## 2) pandas 공부법\n",
    "\n",
    "오늘 수업을 들어도 배운 함수들을 정확히 이해하고 바로 사용할 수 없을 것이라고 생각합니다.\n",
    "\n",
    "pandas도 마찬가지로 직접 사용해야 실력이 늡니다.\n",
    "\n",
    "오늘은 큰 흐름을 파악하고 중요한 부분은 같이 직접 코드도 쳐보시면서 감을 익히시기 바랍니다.\n",
    "\n",
    "그리고 여기 자료를 보면서 여러분의 data를 직접 전처리하시면 그 때부터 여러분들의 실력이 됩니다."
   ]
  },
  {
   "cell_type": "code",
   "execution_count": 3,
   "metadata": {},
   "outputs": [],
   "source": [
    "import pandas as pd"
   ]
  },
  {
   "cell_type": "markdown",
   "metadata": {},
   "source": [
    "------"
   ]
  },
  {
   "cell_type": "markdown",
   "metadata": {},
   "source": [
    "# 1. Pandas 자료구조"
   ]
  },
  {
   "cell_type": "markdown",
   "metadata": {},
   "source": [
    "---------"
   ]
  },
  {
   "cell_type": "markdown",
   "metadata": {},
   "source": [
    "## 1) Series\n",
    "\n",
    "### **'index'**와 **'value'**로 이루어진 1차원의 structured data 형식 ('name'도 있습니다.)\n",
    "\n",
    "- numpy의 1d array와 약간 유사하다고 생각하면 됩니다.\n",
    "\n",
    "- numpy와 달리 index가 있다.\n",
    "\n",
    "- 그래서 dictionary와 더 유사하다."
   ]
  },
  {
   "cell_type": "markdown",
   "metadata": {},
   "source": [
    "### 1> Series 만들기\n",
    "\n",
    "> #### 1-1> value와 index 각각 설정 (default index는 0부터)"
   ]
  },
  {
   "cell_type": "code",
   "execution_count": 4,
   "metadata": {},
   "outputs": [
    {
     "data": {
      "text/plain": [
       "0    a\n",
       "1    b\n",
       "2    c\n",
       "dtype: object"
      ]
     },
     "execution_count": 4,
     "metadata": {},
     "output_type": "execute_result"
    }
   ],
   "source": [
    "s1_1 = pd.Series(data = ['a', 'b', 'c'])\n",
    "s1_1"
   ]
  },
  {
   "cell_type": "markdown",
   "metadata": {},
   "source": [
    "> #### 1-2> value와 index 각각 설정 (optional)"
   ]
  },
  {
   "cell_type": "code",
   "execution_count": 10,
   "metadata": {},
   "outputs": [
    {
     "data": {
      "text/plain": [
       "1    a\n",
       "2    b\n",
       "3    c\n",
       "dtype: object"
      ]
     },
     "execution_count": 10,
     "metadata": {},
     "output_type": "execute_result"
    }
   ],
   "source": [
    "s1_2 = pd.Series(data = ['a', 'b', 'c'], index = range(1,4))\n",
    "s1_2"
   ]
  },
  {
   "cell_type": "markdown",
   "metadata": {},
   "source": [
    "> #### 1-3> dictionary로 Series 만들기"
   ]
  },
  {
   "cell_type": "code",
   "execution_count": 4,
   "metadata": {},
   "outputs": [
    {
     "data": {
      "text/plain": [
       "math       90\n",
       "english    85\n",
       "korean     97\n",
       "dtype: int64"
      ]
     },
     "execution_count": 4,
     "metadata": {},
     "output_type": "execute_result"
    }
   ],
   "source": [
    "s2 = pd.Series(data = {'math': 90, 'english': 85, 'korean': 97})\n",
    "s2"
   ]
  },
  {
   "cell_type": "markdown",
   "metadata": {},
   "source": [
    "### 2> Series의 객체\n",
    "\n",
    "> #### 2-1> values"
   ]
  },
  {
   "cell_type": "code",
   "execution_count": 5,
   "metadata": {},
   "outputs": [
    {
     "data": {
      "text/plain": [
       "array([90, 85, 97], dtype=int64)"
      ]
     },
     "execution_count": 5,
     "metadata": {},
     "output_type": "execute_result"
    }
   ],
   "source": [
    "s2.values # ndarray 출력"
   ]
  },
  {
   "cell_type": "markdown",
   "metadata": {},
   "source": [
    "> #### 2-2> index"
   ]
  },
  {
   "cell_type": "code",
   "execution_count": 6,
   "metadata": {},
   "outputs": [
    {
     "data": {
      "text/plain": [
       "Index(['math', 'english', 'korean'], dtype='object')"
      ]
     },
     "execution_count": 6,
     "metadata": {},
     "output_type": "execute_result"
    }
   ],
   "source": [
    "s2.index"
   ]
  },
  {
   "cell_type": "code",
   "execution_count": 7,
   "metadata": {},
   "outputs": [],
   "source": [
    "s2.name # 현재 name이 None인 상태"
   ]
  },
  {
   "cell_type": "markdown",
   "metadata": {},
   "source": [
    "-------"
   ]
  },
  {
   "cell_type": "markdown",
   "metadata": {},
   "source": [
    "## 2) DataFrame\n",
    "\n",
    "### 여러 개의 Series로 이루어진 2차원의 structured data 형식\n",
    "\n",
    "- DataFrame 각각의 column vector(열)를 하나의 Series라고 보면 됩니다.\n",
    "\n",
    "- 하나의 **'index'**에 **'column(name)'**별 **'value'**들이 존재\n",
    "\n",
    "- numpy의 2d array와 유사하지만 행에는 index, 열에는 column이 붙어있는 형태입니다."
   ]
  },
  {
   "cell_type": "markdown",
   "metadata": {},
   "source": [
    "### 1> DataFrame 만들기\n",
    "\n",
    "> #### 1-1> value, index, column를 각각 설정 (index와 column의 default는 RangeIndex(0이상의 정수 나열))"
   ]
  },
  {
   "cell_type": "code",
   "execution_count": 9,
   "metadata": {},
   "outputs": [
    {
     "data": {
      "text/html": [
       "<div>\n",
       "<style scoped>\n",
       "    .dataframe tbody tr th:only-of-type {\n",
       "        vertical-align: middle;\n",
       "    }\n",
       "\n",
       "    .dataframe tbody tr th {\n",
       "        vertical-align: top;\n",
       "    }\n",
       "\n",
       "    .dataframe thead th {\n",
       "        text-align: right;\n",
       "    }\n",
       "</style>\n",
       "<table border=\"1\" class=\"dataframe\">\n",
       "  <thead>\n",
       "    <tr style=\"text-align: right;\">\n",
       "      <th></th>\n",
       "      <th>age</th>\n",
       "      <th>Orgin</th>\n",
       "      <th>major</th>\n",
       "    </tr>\n",
       "  </thead>\n",
       "  <tbody>\n",
       "    <tr>\n",
       "      <td>Harry</td>\n",
       "      <td>20</td>\n",
       "      <td>Germany</td>\n",
       "      <td>computer science</td>\n",
       "    </tr>\n",
       "    <tr>\n",
       "      <td>Linda</td>\n",
       "      <td>24</td>\n",
       "      <td>China</td>\n",
       "      <td>math</td>\n",
       "    </tr>\n",
       "  </tbody>\n",
       "</table>\n",
       "</div>"
      ],
      "text/plain": [
       "       age    Orgin             major\n",
       "Harry   20  Germany  computer science\n",
       "Linda   24    China              math"
      ]
     },
     "execution_count": 9,
     "metadata": {},
     "output_type": "execute_result"
    }
   ],
   "source": [
    "df1 = pd.DataFrame(data = [[20, 'Germany', 'computer science'], [24, 'China', 'math']], \n",
    "                   index = ['Harry', 'Linda'],columns = ['age', 'Orgin', 'major'])\n",
    "\n",
    "df1"
   ]
  },
  {
   "cell_type": "markdown",
   "metadata": {},
   "source": [
    "> #### 1-2> dictionary로 만들기\n",
    "\n",
    "dictionary의 한 쌍에 한 개의 Series가 들어간다고 생각하면 됩니다."
   ]
  },
  {
   "cell_type": "code",
   "execution_count": 10,
   "metadata": {},
   "outputs": [
    {
     "data": {
      "text/html": [
       "<div>\n",
       "<style scoped>\n",
       "    .dataframe tbody tr th:only-of-type {\n",
       "        vertical-align: middle;\n",
       "    }\n",
       "\n",
       "    .dataframe tbody tr th {\n",
       "        vertical-align: top;\n",
       "    }\n",
       "\n",
       "    .dataframe thead th {\n",
       "        text-align: right;\n",
       "    }\n",
       "</style>\n",
       "<table border=\"1\" class=\"dataframe\">\n",
       "  <thead>\n",
       "    <tr style=\"text-align: right;\">\n",
       "      <th></th>\n",
       "      <th>age</th>\n",
       "      <th>Orgin</th>\n",
       "      <th>major</th>\n",
       "    </tr>\n",
       "  </thead>\n",
       "  <tbody>\n",
       "    <tr>\n",
       "      <td>Harry</td>\n",
       "      <td>20</td>\n",
       "      <td>Germany</td>\n",
       "      <td>computer science</td>\n",
       "    </tr>\n",
       "    <tr>\n",
       "      <td>Linda</td>\n",
       "      <td>24</td>\n",
       "      <td>China</td>\n",
       "      <td>math</td>\n",
       "    </tr>\n",
       "  </tbody>\n",
       "</table>\n",
       "</div>"
      ],
      "text/plain": [
       "       age    Orgin             major\n",
       "Harry   20  Germany  computer science\n",
       "Linda   24    China              math"
      ]
     },
     "execution_count": 10,
     "metadata": {},
     "output_type": "execute_result"
    }
   ],
   "source": [
    "dic2 = {'age': [20,24], 'Orgin': ['Germany', 'China'], 'major':['computer science', 'math']}\n",
    "df2 = pd.DataFrame(data = dic2, index = ['Harry', 'Linda'] )\n",
    "df2"
   ]
  },
  {
   "cell_type": "markdown",
   "metadata": {},
   "source": [
    "그래서 반대 case는 안 됩니다."
   ]
  },
  {
   "cell_type": "code",
   "execution_count": 11,
   "metadata": {},
   "outputs": [
    {
     "data": {
      "text/html": [
       "<div>\n",
       "<style scoped>\n",
       "    .dataframe tbody tr th:only-of-type {\n",
       "        vertical-align: middle;\n",
       "    }\n",
       "\n",
       "    .dataframe tbody tr th {\n",
       "        vertical-align: top;\n",
       "    }\n",
       "\n",
       "    .dataframe thead th {\n",
       "        text-align: right;\n",
       "    }\n",
       "</style>\n",
       "<table border=\"1\" class=\"dataframe\">\n",
       "  <thead>\n",
       "    <tr style=\"text-align: right;\">\n",
       "      <th></th>\n",
       "      <th>age</th>\n",
       "      <th>Orgin</th>\n",
       "      <th>major</th>\n",
       "    </tr>\n",
       "  </thead>\n",
       "  <tbody>\n",
       "  </tbody>\n",
       "</table>\n",
       "</div>"
      ],
      "text/plain": [
       "Empty DataFrame\n",
       "Columns: [age, Orgin, major]\n",
       "Index: []"
      ]
     },
     "execution_count": 11,
     "metadata": {},
     "output_type": "execute_result"
    }
   ],
   "source": [
    "dic3 = {'Harry': [20, 'Germany', 'computer science'], 'Linda':[24,'China', 'math']}\n",
    "df3 = pd.DataFrame(data = dic3, columns = ['age', 'Orgin', 'major'])\n",
    "df3"
   ]
  },
  {
   "cell_type": "markdown",
   "metadata": {},
   "source": [
    "### 2> DataFrame의 객체\n",
    "\n",
    "> #### 2-1> values"
   ]
  },
  {
   "cell_type": "code",
   "execution_count": 12,
   "metadata": {},
   "outputs": [
    {
     "data": {
      "text/plain": [
       "array([[20, 'Germany', 'computer science'],\n",
       "       [24, 'China', 'math']], dtype=object)"
      ]
     },
     "execution_count": 12,
     "metadata": {},
     "output_type": "execute_result"
    }
   ],
   "source": [
    "df1.values"
   ]
  },
  {
   "cell_type": "markdown",
   "metadata": {},
   "source": [
    "> #### 2-2> index"
   ]
  },
  {
   "cell_type": "code",
   "execution_count": 13,
   "metadata": {},
   "outputs": [
    {
     "data": {
      "text/plain": [
       "Index(['Harry', 'Linda'], dtype='object')"
      ]
     },
     "execution_count": 13,
     "metadata": {},
     "output_type": "execute_result"
    }
   ],
   "source": [
    "df1.index"
   ]
  },
  {
   "cell_type": "markdown",
   "metadata": {},
   "source": [
    "> #### 2-3> columns"
   ]
  },
  {
   "cell_type": "code",
   "execution_count": 14,
   "metadata": {},
   "outputs": [
    {
     "data": {
      "text/plain": [
       "Index(['age', 'Orgin', 'major'], dtype='object')"
      ]
     },
     "execution_count": 14,
     "metadata": {},
     "output_type": "execute_result"
    }
   ],
   "source": [
    "df1.columns"
   ]
  },
  {
   "cell_type": "code",
   "execution_count": null,
   "metadata": {},
   "outputs": [],
   "source": []
  }
 ],
 "metadata": {
  "kernelspec": {
   "display_name": "Python 3",
   "language": "python",
   "name": "python3"
  },
  "language_info": {
   "codemirror_mode": {
    "name": "ipython",
    "version": 3
   },
   "file_extension": ".py",
   "mimetype": "text/x-python",
   "name": "python",
   "nbconvert_exporter": "python",
   "pygments_lexer": "ipython3",
   "version": "3.7.4"
  }
 },
 "nbformat": 4,
 "nbformat_minor": 4
}
