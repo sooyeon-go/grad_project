{
 "cells": [
  {
   "cell_type": "code",
   "execution_count": 11,
   "metadata": {},
   "outputs": [],
   "source": [
    "import pandas as pd\n",
    "%matplotlib inline\n",
    "import matplotlib.pyplot as plt\n",
    "import re\n",
    "import tensorflow as tf\n",
    "from konlpy.tag import Okt\n",
    "from tensorflow.keras.preprocessing.text import Tokenizer\n",
    "import numpy as np\n",
    "from tensorflow.keras.preprocessing.sequence import pad_sequences"
   ]
  },
  {
   "cell_type": "markdown",
   "metadata": {},
   "source": [
    "# test review 전처리"
   ]
  },
  {
   "cell_type": "code",
   "execution_count": 77,
   "metadata": {},
   "outputs": [
    {
     "name": "stdout",
     "output_type": "stream",
     "text": [
      "['review']\n",
      "['영상보자마자 쓰러질뻔했어요ㅜㅜ너무멋있어서 출구완전봉쇄 절대못나오는회전문!!!!!']\n",
      "['뭔베짱으로지금 티비에나오냐ㅡㅡ 걍 짜져있어도모자랄판에']\n",
      "['신성 잘했어요.']\n",
      "['플랙스니 뭐니 돈자랑하는 힙합문화 솔직히 졸부들 천박한 문화같아. 싼티나. 애들이 보고 배울까 겁나네']\n",
      "['너무너무 멋있어요']\n",
      "['항상 응원해요']\n",
      "['진짜 못생겼다 우웩']\n",
      "['짜증난다 티비에 그만나와']\n",
      "['멋있다!']\n",
      "['정신분열 잼ㅋㅋㅋㅋ']\n"
     ]
    }
   ],
   "source": [
    "import csv\n",
    "\n",
    "list = []\n",
    "f = open('testset.csv','r', encoding = 'cp949')\n",
    "rdr = csv.reader(f)\n",
    "for line in rdr:\n",
    "    print(line)\n",
    "    list.append(line)\n",
    "f.close()"
   ]
  },
  {
   "cell_type": "code",
   "execution_count": 78,
   "metadata": {},
   "outputs": [],
   "source": [
    "testset = pd.read_csv('testset.csv', encoding = 'cp949')"
   ]
  },
  {
   "cell_type": "code",
   "execution_count": 79,
   "metadata": {},
   "outputs": [
    {
     "data": {
      "text/html": [
       "<div>\n",
       "<style scoped>\n",
       "    .dataframe tbody tr th:only-of-type {\n",
       "        vertical-align: middle;\n",
       "    }\n",
       "\n",
       "    .dataframe tbody tr th {\n",
       "        vertical-align: top;\n",
       "    }\n",
       "\n",
       "    .dataframe thead th {\n",
       "        text-align: right;\n",
       "    }\n",
       "</style>\n",
       "<table border=\"1\" class=\"dataframe\">\n",
       "  <thead>\n",
       "    <tr style=\"text-align: right;\">\n",
       "      <th></th>\n",
       "      <th>review</th>\n",
       "    </tr>\n",
       "  </thead>\n",
       "  <tbody>\n",
       "    <tr>\n",
       "      <td>0</td>\n",
       "      <td>영상보자마자 쓰러질뻔했어요ㅜㅜ너무멋있어서 출구완전봉쇄 절대못나오는회전문!!!!!</td>\n",
       "    </tr>\n",
       "    <tr>\n",
       "      <td>1</td>\n",
       "      <td>뭔베짱으로지금 티비에나오냐ㅡㅡ 걍 짜져있어도모자랄판에</td>\n",
       "    </tr>\n",
       "    <tr>\n",
       "      <td>2</td>\n",
       "      <td>신성 잘했어요.</td>\n",
       "    </tr>\n",
       "    <tr>\n",
       "      <td>3</td>\n",
       "      <td>플랙스니 뭐니 돈자랑하는 힙합문화 솔직히 졸부들 천박한 문화같아. 싼티나. 애들이 ...</td>\n",
       "    </tr>\n",
       "    <tr>\n",
       "      <td>4</td>\n",
       "      <td>너무너무 멋있어요</td>\n",
       "    </tr>\n",
       "    <tr>\n",
       "      <td>5</td>\n",
       "      <td>항상 응원해요</td>\n",
       "    </tr>\n",
       "    <tr>\n",
       "      <td>6</td>\n",
       "      <td>진짜 못생겼다 우웩</td>\n",
       "    </tr>\n",
       "    <tr>\n",
       "      <td>7</td>\n",
       "      <td>짜증난다 티비에 그만나와</td>\n",
       "    </tr>\n",
       "    <tr>\n",
       "      <td>8</td>\n",
       "      <td>멋있다!</td>\n",
       "    </tr>\n",
       "    <tr>\n",
       "      <td>9</td>\n",
       "      <td>정신분열 잼ㅋㅋㅋㅋ</td>\n",
       "    </tr>\n",
       "  </tbody>\n",
       "</table>\n",
       "</div>"
      ],
      "text/plain": [
       "                                              review\n",
       "0       영상보자마자 쓰러질뻔했어요ㅜㅜ너무멋있어서 출구완전봉쇄 절대못나오는회전문!!!!!\n",
       "1                      뭔베짱으로지금 티비에나오냐ㅡㅡ 걍 짜져있어도모자랄판에\n",
       "2                                           신성 잘했어요.\n",
       "3  플랙스니 뭐니 돈자랑하는 힙합문화 솔직히 졸부들 천박한 문화같아. 싼티나. 애들이 ...\n",
       "4                                          너무너무 멋있어요\n",
       "5                                            항상 응원해요\n",
       "6                                         진짜 못생겼다 우웩\n",
       "7                                      짜증난다 티비에 그만나와\n",
       "8                                               멋있다!\n",
       "9                                         정신분열 잼ㅋㅋㅋㅋ"
      ]
     },
     "execution_count": 79,
     "metadata": {},
     "output_type": "execute_result"
    }
   ],
   "source": [
    "testset = testset[['review']]\n",
    "testset"
   ]
  },
  {
   "cell_type": "code",
   "execution_count": 80,
   "metadata": {},
   "outputs": [],
   "source": [
    "data = testset['review']"
   ]
  },
  {
   "cell_type": "code",
   "execution_count": 81,
   "metadata": {},
   "outputs": [
    {
     "name": "stdout",
     "output_type": "stream",
     "text": [
      "['영상보자마자 쓰러질뻔했어요ㅜㅜ너무멋있어서 출구완전봉쇄 절대못나오는회전문 ', '뭔베짱으로지금 티비에나오냐ㅡㅡ 걍 짜져있어도모자랄판에', '신성 잘했어요 ', '플랙스니 뭐니 돈자랑하는 힙합문화 솔직히 졸부들 천박한 문화같아 싼티나 애들이 보고 배울까 겁나네', '너무너무 멋있어요', '항상 응원해요', '진짜 못생겼다 우웩', '짜증난다 티비에 그만나와', '멋있다 ', '정신분열 잼ㅋㅋㅋㅋ']\n"
     ]
    }
   ],
   "source": [
    "normalized_text = []\n",
    "for string in data.tolist():\n",
    "    try:\n",
    "        tokens = re.sub(r\"[^ㄱ-ㅎㅏ-ㅣ가-힣]+\", \" \", string.lower())\n",
    "    except Exception as e:\n",
    "        print(string)\n",
    "        break\n",
    "    normalized_text.append(tokens)\n",
    "print(normalized_text)"
   ]
  },
  {
   "cell_type": "code",
   "execution_count": 82,
   "metadata": {},
   "outputs": [
    {
     "name": "stdout",
     "output_type": "stream",
     "text": [
      "영상보자마자 쓰러질뻔했어요ㅜㅜ너무멋있어서 출구완전봉쇄 절대못나오는회전문 \n",
      "뭔베짱으로지금 티비에나오냐ㅡㅡ 걍 짜져있어도모자랄판에\n",
      "신성 잘했어요 \n",
      "플랙스니 뭐니 돈자랑하는 힙합문화 솔직히 졸부들 천박한 문화같아 싼티나 애들이 보고 배울까 겁나네\n",
      "너무너무 멋있어요\n",
      "항상 응원해요\n",
      "진짜 못생겼다 우웩\n",
      "짜증난다 티비에 그만나와\n",
      "멋있다 \n",
      "정신분열 잼ㅋㅋㅋㅋ\n"
     ]
    }
   ],
   "source": [
    "testset.review = normalized_text\n",
    "for sentence in testset['review']:\n",
    "    print(sentence)"
   ]
  },
  {
   "cell_type": "code",
   "execution_count": 83,
   "metadata": {},
   "outputs": [],
   "source": [
    "from konlpy.tag import Okt  \n",
    "okt = Okt()"
   ]
  },
  {
   "cell_type": "code",
   "execution_count": 84,
   "metadata": {},
   "outputs": [],
   "source": [
    "X_token=[]\n",
    "for sentence in testset['review']:\n",
    "    temp_X = []\n",
    "    temp_X = okt.morphs(sentence, stem=True) # 토큰화\n",
    "    #temp_X = [word for word in temp_X if not word in stopwords] # 불용어 제거\n",
    "    X_token.append(temp_X)"
   ]
  },
  {
   "cell_type": "code",
   "execution_count": 85,
   "metadata": {},
   "outputs": [],
   "source": [
    "max_words = 35000\n",
    "tokenizer = Tokenizer(num_words = max_words) # 상위 35,000개의 단어만 보존\n",
    "tokenizer.fit_on_texts(X_token) \n",
    "X_token = tokenizer.texts_to_sequences(X_token)"
   ]
  },
  {
   "cell_type": "code",
   "execution_count": 86,
   "metadata": {},
   "outputs": [],
   "source": [
    "word_to_index = tokenizer.word_index\n",
    "vocab_size = len(word_to_index)+1"
   ]
  },
  {
   "cell_type": "code",
   "execution_count": 87,
   "metadata": {},
   "outputs": [],
   "source": [
    "max_len = 124\n",
    "X_data = pad_sequences(X_token, maxlen=max_len)"
   ]
  },
  {
   "cell_type": "markdown",
   "metadata": {},
   "source": [
    "# model 불러오기"
   ]
  },
  {
   "cell_type": "code",
   "execution_count": 92,
   "metadata": {},
   "outputs": [],
   "source": [
    "from tensorflow.keras.models import load_model\n",
    "model = load_model('model11.h5')"
   ]
  },
  {
   "cell_type": "code",
   "execution_count": 93,
   "metadata": {},
   "outputs": [
    {
     "name": "stdout",
     "output_type": "stream",
     "text": [
      "Model: \"sequential\"\n",
      "_________________________________________________________________\n",
      "Layer (type)                 Output Shape              Param #   \n",
      "=================================================================\n",
      "embedding (Embedding)        (None, None, 100)         3500000   \n",
      "_________________________________________________________________\n",
      "lstm (LSTM)                  (None, 128)               117248    \n",
      "_________________________________________________________________\n",
      "dense (Dense)                (None, 32)                4128      \n",
      "_________________________________________________________________\n",
      "dense_1 (Dense)              (None, 64)                2112      \n",
      "_________________________________________________________________\n",
      "dense_2 (Dense)              (None, 128)               8320      \n",
      "_________________________________________________________________\n",
      "dense_3 (Dense)              (None, 1)                 129       \n",
      "=================================================================\n",
      "Total params: 3,631,937\n",
      "Trainable params: 3,631,937\n",
      "Non-trainable params: 0\n",
      "_________________________________________________________________\n"
     ]
    }
   ],
   "source": [
    "model.summary()"
   ]
  },
  {
   "cell_type": "code",
   "execution_count": 94,
   "metadata": {},
   "outputs": [
    {
     "name": "stdout",
     "output_type": "stream",
     "text": [
      "선플\n",
      "선플\n",
      "악플\n",
      "선플\n",
      "악플\n",
      "선플\n",
      "악플\n",
      "선플\n",
      "악플\n",
      "악플\n"
     ]
    }
   ],
   "source": [
    "predict = model.predict_classes(X_data)\n",
    "for i in range(len(X_data)):\n",
    "    if(predict[i] == 0):\n",
    "        print(\"선플\")\n",
    "    else:\n",
    "        print(\"악플\")"
   ]
  },
  {
   "cell_type": "code",
   "execution_count": null,
   "metadata": {},
   "outputs": [],
   "source": []
  }
 ],
 "metadata": {
  "kernelspec": {
   "display_name": "Python 3",
   "language": "python",
   "name": "python3"
  },
  "language_info": {
   "codemirror_mode": {
    "name": "ipython",
    "version": 3
   },
   "file_extension": ".py",
   "mimetype": "text/x-python",
   "name": "python",
   "nbconvert_exporter": "python",
   "pygments_lexer": "ipython3",
   "version": "3.7.4"
  }
 },
 "nbformat": 4,
 "nbformat_minor": 2
}
