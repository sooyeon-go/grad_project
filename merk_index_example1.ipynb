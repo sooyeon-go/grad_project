{
 "cells": [
  {
   "cell_type": "code",
   "execution_count": 2,
   "metadata": {},
   "outputs": [
    {
     "name": "stdout",
     "output_type": "stream",
     "text": [
      "총 50 개의 주제를 찾았습니다\n",
      "['Abacavir', 'Abacavir derivative: Sulfate', 'Abaloparatide', 'Abamectin', 'Abarelix', 'Abatacept', 'Abciximab', 'Abecarnil', 'Abemaciclib', 'Abetimus Sodium', 'Abietic Acid', 'Abietic Acid derivative: Methyl ester', 'Abikoviromycin', 'Abiraterone', 'Abiraterone derivative: Acetate', 'Abrin', 'Abrine', 'Abrine derivative: Acetyl derivative', 'Abrine derivative: Hydrochloride', 'Abrine derivative: Nitrate', 'Abscisic Acid', 'Abscisic Acid derivative: (−)-cis,trans-Form', 'Abscisic Acid derivative: (±)-cis,trans-Form', 'Absinthin', 'Acacetin', 'Acacetin derivative: 7-Rhamnoglucoside', 'Acacia', 'Acacic Acid', 'Acacic Acid derivative: Diacetyl lactone', 'Acacic Acid derivative: Methyl ester', 'Acadesine', 'Acalabrutinib', 'Acamprosate Calcium', 'Acarbose', 'Acebutolol', 'Acebutolol derivative: Hydrochloride', 'Acecainide', 'Acecainide derivative: Hydrochloride', 'Acecarbromal', 'Aceclofenac', 'Acedapsone', 'Acediasulfone', 'Acediasulfone derivative: Morpholine salt', 'Acediasulfone derivative: Sodium salt', 'Acefylline', 'Acefylline derivative: Compd with piperazine', 'Acefylline derivative: Sodium salt', 'Aceglatone', 'Aceglutamide', 'Aceglutamide derivative: Aluminum complex']\n"
     ]
    }
   ],
   "source": [
    "import requests\n",
    "from bs4 import BeautifulSoup\n",
    "\n",
    "class Conversation:#한 건의 대화에 대한 정보를 담는 클래스(질문/응답 두 가지 변수로 구성될 수 있게함)\n",
    "    def __init__(self, question, answer):\n",
    "        self.question = question\n",
    "        self.answer = answer\n",
    "        \n",
    "    def __str__(self):\n",
    "        return \"질문: \" + self.question + \"\\n답변: \" + self.answer + \"\\n\"\n",
    "\n",
    "def get_subjects():#모든 대화를 추출\n",
    "    subjects = []\n",
    "    req = requests.get(\"https://www.rsc.org/Merck-Index/browse?atozfilter=A&pagenumber=1&pageSize=50\")\n",
    "    html = req.text\n",
    "    soup = BeautifulSoup(html, 'html.parser')\n",
    "    \n",
    "    divs = soup.findAll('div',{\"class\":\"adv_search_text_box\"})\n",
    "    for div in divs:\n",
    "        links = div.findAll('h2')\n",
    "        for link in links:\n",
    "            subject = link.text\n",
    "            subject_r = subject.strip()\n",
    "            subjects.append(subject_r)\n",
    "            \n",
    "    return subjects\n",
    "\n",
    "subjects = get_subjects()\n",
    "print('총',len(subjects),'개의 주제를 찾았습니다')\n",
    "print(subjects)      "
   ]
  },
  {
   "cell_type": "code",
   "execution_count": 3,
   "metadata": {},
   "outputs": [
    {
     "name": "stdout",
     "output_type": "stream",
     "text": [
      "( 1 / 50 ) Abacavir\n",
      "( 2 / 50 ) Abacavir derivative: Sulfate\n",
      "( 3 / 50 ) Abaloparatide\n",
      "( 4 / 50 ) Abamectin\n",
      "( 5 / 50 ) Abarelix\n",
      "( 6 / 50 ) Abatacept\n",
      "( 7 / 50 ) Abciximab\n",
      "( 8 / 50 ) Abecarnil\n",
      "( 9 / 50 ) Abemaciclib\n",
      "( 10 / 50 ) Abetimus Sodium\n",
      "( 11 / 50 ) Abietic Acid\n",
      "( 12 / 50 ) Abietic Acid derivative: Methyl ester\n",
      "( 13 / 50 ) Abikoviromycin\n",
      "( 14 / 50 ) Abiraterone\n",
      "( 15 / 50 ) Abiraterone derivative: Acetate\n",
      "( 16 / 50 ) Abrin\n",
      "( 17 / 50 ) Abrine\n",
      "( 18 / 50 ) Abrine derivative: Acetyl derivative\n",
      "( 19 / 50 ) Abrine derivative: Hydrochloride\n",
      "( 20 / 50 ) Abrine derivative: Nitrate\n",
      "( 21 / 50 ) Abscisic Acid\n",
      "( 22 / 50 ) Abscisic Acid derivative: (−)-cis,trans-Form\n",
      "( 23 / 50 ) Abscisic Acid derivative: (±)-cis,trans-Form\n",
      "( 24 / 50 ) Absinthin\n",
      "( 25 / 50 ) Acacetin\n",
      "( 26 / 50 ) Acacetin derivative: 7-Rhamnoglucoside\n",
      "( 27 / 50 ) Acacia\n",
      "( 28 / 50 ) Acacic Acid\n",
      "( 29 / 50 ) Acacic Acid derivative: Diacetyl lactone\n",
      "( 30 / 50 ) Acacic Acid derivative: Methyl ester\n",
      "( 31 / 50 ) Acadesine\n",
      "( 32 / 50 ) Acalabrutinib\n",
      "( 33 / 50 ) Acamprosate Calcium\n",
      "( 34 / 50 ) Acarbose\n",
      "( 35 / 50 ) Acebutolol\n",
      "( 36 / 50 ) Acebutolol derivative: Hydrochloride\n",
      "( 37 / 50 ) Acecainide\n",
      "( 38 / 50 ) Acecainide derivative: Hydrochloride\n",
      "( 39 / 50 ) Acecarbromal\n",
      "( 40 / 50 ) Aceclofenac\n",
      "( 41 / 50 ) Acedapsone\n",
      "( 42 / 50 ) Acediasulfone\n",
      "( 43 / 50 ) Acediasulfone derivative: Morpholine salt\n",
      "( 44 / 50 ) Acediasulfone derivative: Sodium salt\n",
      "( 45 / 50 ) Acefylline\n",
      "( 46 / 50 ) Acefylline derivative: Compd with piperazine\n",
      "( 47 / 50 ) Acefylline derivative: Sodium salt\n",
      "( 48 / 50 ) Aceglatone\n",
      "( 49 / 50 ) Aceglutamide\n",
      "( 50 / 50 ) Aceglutamide derivative: Aluminum complex\n",
      "총 0 개의 대화를 찾았습니다.\n"
     ]
    }
   ],
   "source": [
    "conversations = []\n",
    "i = 1\n",
    "\n",
    "for sub in subjects:\n",
    "    print(\"(\", i, \"/\", len(subjects), \")\", sub)\n",
    "    req = requests.get(\"https://basicenglishspeaking.com/\" + sub)\n",
    "    html = req.text\n",
    "    soup = BeautifulSoup(html, 'html.parser')\n",
    "    \n",
    "    qnas = soup.findAll('div', {\"class\": \"sc_player_container1\"})\n",
    "    \n",
    "    for qna in qnas:\n",
    "        if qnas.index(qna) % 2 == 0:\n",
    "            q = qna.next_sibling\n",
    "        else:\n",
    "            a = qna.next_sibling\n",
    "            c = Conversation(q,a)\n",
    "            conversations.append(c)\n",
    "            \n",
    "    i = i + 1\n",
    "\n",
    "print(\"총\", len(conversations), \"개의 대화를 찾았습니다.\")\n",
    "\n",
    "for c in conversations:\n",
    "    print(str(c))"
   ]
  },
  {
   "cell_type": "code",
   "execution_count": null,
   "metadata": {},
   "outputs": [],
   "source": []
  }
 ],
 "metadata": {
  "kernelspec": {
   "display_name": "Python 3",
   "language": "python",
   "name": "python3"
  },
  "language_info": {
   "codemirror_mode": {
    "name": "ipython",
    "version": 3
   },
   "file_extension": ".py",
   "mimetype": "text/x-python",
   "name": "python",
   "nbconvert_exporter": "python",
   "pygments_lexer": "ipython3",
   "version": "3.7.0"
  }
 },
 "nbformat": 4,
 "nbformat_minor": 2
}
